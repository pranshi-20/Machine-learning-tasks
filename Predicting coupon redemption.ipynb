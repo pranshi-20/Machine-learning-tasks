{
  "nbformat": 4,
  "nbformat_minor": 0,
  "metadata": {
    "kernelspec": {
      "display_name": "Python 3",
      "language": "python",
      "name": "python3"
    },
    "language_info": {
      "codemirror_mode": {
        "name": "ipython",
        "version": 3
      },
      "file_extension": ".py",
      "mimetype": "text/x-python",
      "name": "python",
      "nbconvert_exporter": "python",
      "pygments_lexer": "ipython3",
      "version": "3.7.6"
    },
    "colab": {
      "name": "Untitled.ipynb",
      "provenance": []
    },
    "accelerator": "GPU"
  },
  "cells": [
    {
      "cell_type": "code",
      "metadata": {
        "id": "RH5Iqft6cncW"
      },
      "source": [
        "#import libraries\n",
        "import pandas as pd\n",
        "import numpy as np\n",
        "import matplotlib.pyplot as plt\n",
        "import seaborn as sns\n",
        "%matplotlib inline"
      ],
      "execution_count": 2,
      "outputs": []
    },
    {
      "cell_type": "code",
      "metadata": {
        "id": "ELmHos36cnci"
      },
      "source": [
        "#read our datasets\n",
        "\n",
        "train=pd.read_csv('/content/train.csv')\n",
        "test=pd.read_csv(\"/content/test (4).csv\")\n",
        "\n",
        "campaign_data=pd.read_csv(\"/content/campaign_data.csv\")\n",
        "coupon_item_map=pd.read_csv(\"/content/coupon_item_mapping.csv\")\n",
        "customer_demo=pd.read_csv(\"/content/customer_demographics.csv\")\n",
        "customer_transaction=pd.read_csv(\"/content/customer_transaction_data.csv\")\n",
        "item_data=pd.read_csv(\"/content/item_data.csv\")\n"
      ],
      "execution_count": 3,
      "outputs": []
    },
    {
      "cell_type": "code",
      "metadata": {
        "id": "SOtiwmDocnco",
        "outputId": "82f420c8-b2d7-44ea-9253-d12852f726ab",
        "colab": {
          "base_uri": "https://localhost:8080/",
          "height": 145
        }
      },
      "source": [
        "#let's have a look at all our provided datasets\n",
        "print(train.head())\n",
        "print(train.shape)"
      ],
      "execution_count": 4,
      "outputs": [
        {
          "output_type": "stream",
          "text": [
            "   id  campaign_id  coupon_id  customer_id  redemption_status\n",
            "0   1           13         27         1053                  0\n",
            "1   2           13        116           48                  0\n",
            "2   6            9        635          205                  0\n",
            "3   7           13        644         1050                  0\n",
            "4   9            8       1017         1489                  0\n",
            "(78369, 5)\n"
          ],
          "name": "stdout"
        }
      ]
    },
    {
      "cell_type": "code",
      "metadata": {
        "id": "64eWo98Ocncw",
        "outputId": "957d2991-b303-478c-9de8-1fbcf85a6fca",
        "colab": {
          "base_uri": "https://localhost:8080/",
          "height": 145
        }
      },
      "source": [
        "print(campaign_data.head())\n",
        "print(campaign_data.shape)"
      ],
      "execution_count": 5,
      "outputs": [
        {
          "output_type": "stream",
          "text": [
            "   campaign_id campaign_type start_date  end_date\n",
            "0           24             Y   21/10/13  20/12/13\n",
            "1           25             Y   21/10/13  22/11/13\n",
            "2           20             Y   07/09/13  16/11/13\n",
            "3           23             Y   08/10/13  15/11/13\n",
            "4           21             Y   16/09/13  18/10/13\n",
            "(28, 4)\n"
          ],
          "name": "stdout"
        }
      ]
    },
    {
      "cell_type": "code",
      "metadata": {
        "id": "yraqCYNmcnc2",
        "outputId": "19215ea0-c72e-4843-b8ef-8c7bdd7bf73d",
        "colab": {
          "base_uri": "https://localhost:8080/",
          "height": 145
        }
      },
      "source": [
        "print(coupon_item_map.head())\n",
        "print(coupon_item_map.shape)"
      ],
      "execution_count": 6,
      "outputs": [
        {
          "output_type": "stream",
          "text": [
            "   coupon_id  item_id\n",
            "0        105       37\n",
            "1        107       75\n",
            "2        494       76\n",
            "3        522       77\n",
            "4        518       77\n",
            "(92663, 2)\n"
          ],
          "name": "stdout"
        }
      ]
    },
    {
      "cell_type": "code",
      "metadata": {
        "id": "nJ7xCMKAcnc8",
        "outputId": "1ac545d8-ccb2-4c4a-a4b1-6cb4bee65f54",
        "colab": {
          "base_uri": "https://localhost:8080/",
          "height": 181
        }
      },
      "source": [
        "print(customer_demo.head())\n",
        "print(customer_demo.shape)"
      ],
      "execution_count": 7,
      "outputs": [
        {
          "output_type": "stream",
          "text": [
            "   customer_id age_range  ... no_of_children  income_bracket\n",
            "0            1       70+  ...            NaN               4\n",
            "1            6     46-55  ...            NaN               5\n",
            "2            7     26-35  ...              1               3\n",
            "3            8     26-35  ...              2               6\n",
            "4           10     46-55  ...            NaN               5\n",
            "\n",
            "[5 rows x 7 columns]\n",
            "(760, 7)\n"
          ],
          "name": "stdout"
        }
      ]
    },
    {
      "cell_type": "code",
      "metadata": {
        "id": "YgC6GKxXcndC",
        "outputId": "b1146c9f-621e-4cf3-9b19-2a1ce0a20043",
        "colab": {
          "base_uri": "https://localhost:8080/",
          "height": 181
        }
      },
      "source": [
        "print(customer_transaction.head())\n",
        "print(customer_transaction.shape)"
      ],
      "execution_count": 8,
      "outputs": [
        {
          "output_type": "stream",
          "text": [
            "         date  customer_id  ...  other_discount  coupon_discount\n",
            "0  2012-01-02         1501  ...          -10.69              0.0\n",
            "1  2012-01-02         1501  ...          -13.89              0.0\n",
            "2  2012-01-02         1501  ...          -14.25              0.0\n",
            "3  2012-01-02         1501  ...            0.00              0.0\n",
            "4  2012-01-02         1501  ...          -28.14              0.0\n",
            "\n",
            "[5 rows x 7 columns]\n",
            "(296208, 7)\n"
          ],
          "name": "stdout"
        }
      ]
    },
    {
      "cell_type": "code",
      "metadata": {
        "id": "7EcHHIjQcndI",
        "outputId": "a2b7c1bc-5741-47f6-cbd8-22b00cd95600",
        "colab": {
          "base_uri": "https://localhost:8080/",
          "height": 145
        }
      },
      "source": [
        "print(item_data.head())\n",
        "print(item_data.shape)"
      ],
      "execution_count": 9,
      "outputs": [
        {
          "output_type": "stream",
          "text": [
            "   item_id  brand   brand_type       category\n",
            "0        1      1  Established        Grocery\n",
            "1        2      1  Established  Miscellaneous\n",
            "2        3     56        Local         Bakery\n",
            "3        4     56        Local        Grocery\n",
            "4        5     56        Local        Grocery\n",
            "(74066, 4)\n"
          ],
          "name": "stdout"
        }
      ]
    },
    {
      "cell_type": "code",
      "metadata": {
        "id": "jp1UdrW6cndO",
        "outputId": "508bcb17-0078-4bd7-ff96-bda75c74f5aa",
        "colab": {
          "base_uri": "https://localhost:8080/",
          "height": 145
        }
      },
      "source": [
        "print(test.head())\n",
        "print(test.shape)"
      ],
      "execution_count": 10,
      "outputs": [
        {
          "output_type": "stream",
          "text": [
            "   id  campaign_id  coupon_id  customer_id\n",
            "0   3           22        869          967\n",
            "1   4           20        389         1566\n",
            "2   5           22        981          510\n",
            "3   8           25       1069          361\n",
            "4  10           17        498          811\n",
            "(50226, 4)\n"
          ],
          "name": "stdout"
        }
      ]
    },
    {
      "cell_type": "code",
      "metadata": {
        "id": "2yZsX_bccndT",
        "outputId": "48275ac0-6a9d-4632-9519-ba9010390397",
        "colab": {
          "base_uri": "https://localhost:8080/",
          "height": 280
        }
      },
      "source": [
        "#let's see the count of the redemption status\n",
        "train['redemption_status'].value_counts().plot.bar()"
      ],
      "execution_count": 11,
      "outputs": [
        {
          "output_type": "execute_result",
          "data": {
            "text/plain": [
              "<matplotlib.axes._subplots.AxesSubplot at 0x7f5dac6f62b0>"
            ]
          },
          "metadata": {
            "tags": []
          },
          "execution_count": 11
        },
        {
          "output_type": "display_data",
          "data": {
            "image/png": "[encoded data removed]",
            "text/plain": [
              "<Figure size 432x288 with 1 Axes>"
            ]
          },
          "metadata": {
            "tags": [],
            "needs_background": "light"
          }
        }
      ]
    },
    {
      "cell_type": "markdown",
      "metadata": {
        "id": "OWetE5w6cndZ"
      },
      "source": [
        "We can see that the number of redemeed coupons are very less"
      ]
    },
    {
      "cell_type": "code",
      "metadata": {
        "id": "2bK4g6XKcndb"
      },
      "source": [
        "#function for creating a short summary for our various dataframes\n",
        "def summary(df):\n",
        "    print(f\"Dataset Shape: {df.shape}\")\n",
        "    summary = pd.DataFrame(df.dtypes,columns=['dtypes'])\n",
        "    summary = summary.reset_index()\n",
        "    summary['Name'] = summary['index']\n",
        "    summary = summary[['Name','dtypes']]\n",
        "    summary['Missing'] = df.isnull().sum().values    \n",
        "    summary['Uniques'] = df.nunique().values\n",
        "    return summary\n",
        "    "
      ],
      "execution_count": 12,
      "outputs": []
    },
    {
      "cell_type": "code",
      "metadata": {
        "id": "-ZsG01_wcndg",
        "outputId": "03608709-80f2-4dc6-9401-246266b1aa2d",
        "colab": {
          "base_uri": "https://localhost:8080/",
          "height": 216
        }
      },
      "source": [
        "summary(train)"
      ],
      "execution_count": 13,
      "outputs": [
        {
          "output_type": "stream",
          "text": [
            "Dataset Shape: (78369, 5)\n"
          ],
          "name": "stdout"
        },
        {
          "output_type": "execute_result",
          "data": {
            "text/html": [
              "<div>\n",
              "<style scoped>\n",
              "    .dataframe tbody tr th:only-of-type {\n",
              "        vertical-align: middle;\n",
              "    }\n",
              "\n",
              "    .dataframe tbody tr th {\n",
              "        vertical-align: top;\n",
              "    }\n",
              "\n",
              "    .dataframe thead th {\n",
              "        text-align: right;\n",
              "    }\n",
              "</style>\n",
              "<table border=\"1\" class=\"dataframe\">\n",
              "  <thead>\n",
              "    <tr style=\"text-align: right;\">\n",
              "      <th></th>\n",
              "      <th>Name</th>\n",
              "      <th>dtypes</th>\n",
              "      <th>Missing</th>\n",
              "      <th>Uniques</th>\n",
              "    </tr>\n",
              "  </thead>\n",
              "  <tbody>\n",
              "    <tr>\n",
              "      <th>0</th>\n",
              "      <td>id</td>\n",
              "      <td>int64</td>\n",
              "      <td>0</td>\n",
              "      <td>78369</td>\n",
              "    </tr>\n",
              "    <tr>\n",
              "      <th>1</th>\n",
              "      <td>campaign_id</td>\n",
              "      <td>int64</td>\n",
              "      <td>0</td>\n",
              "      <td>18</td>\n",
              "    </tr>\n",
              "    <tr>\n",
              "      <th>2</th>\n",
              "      <td>coupon_id</td>\n",
              "      <td>int64</td>\n",
              "      <td>0</td>\n",
              "      <td>866</td>\n",
              "    </tr>\n",
              "    <tr>\n",
              "      <th>3</th>\n",
              "      <td>customer_id</td>\n",
              "      <td>int64</td>\n",
              "      <td>0</td>\n",
              "      <td>1428</td>\n",
              "    </tr>\n",
              "    <tr>\n",
              "      <th>4</th>\n",
              "      <td>redemption_status</td>\n",
              "      <td>int64</td>\n",
              "      <td>0</td>\n",
              "      <td>2</td>\n",
              "    </tr>\n",
              "  </tbody>\n",
              "</table>\n",
              "</div>"
            ],
            "text/plain": [
              "                Name dtypes  Missing  Uniques\n",
              "0                 id  int64        0    78369\n",
              "1        campaign_id  int64        0       18\n",
              "2          coupon_id  int64        0      866\n",
              "3        customer_id  int64        0     1428\n",
              "4  redemption_status  int64        0        2"
            ]
          },
          "metadata": {
            "tags": []
          },
          "execution_count": 13
        }
      ]
    },
    {
      "cell_type": "code",
      "metadata": {
        "id": "MR60Hz6Ocndn"
      },
      "source": [
        "#joining our test and train datasets\n",
        "train['is_train']  = 1\n",
        "test['redemption_status'] = -99\n",
        "test['is_train'] = 0\n",
        "full=train.append(test)"
      ],
      "execution_count": 14,
      "outputs": []
    },
    {
      "cell_type": "code",
      "metadata": {
        "id": "K_fRvy0Lcndw",
        "outputId": "3b69046b-c0d5-4200-f18e-bc190d8b9b48",
        "colab": {
          "base_uri": "https://localhost:8080/",
          "height": 198
        }
      },
      "source": [
        "full.head()"
      ],
      "execution_count": 15,
      "outputs": [
        {
          "output_type": "execute_result",
          "data": {
            "text/html": [
              "<div>\n",
              "<style scoped>\n",
              "    .dataframe tbody tr th:only-of-type {\n",
              "        vertical-align: middle;\n",
              "    }\n",
              "\n",
              "    .dataframe tbody tr th {\n",
              "        vertical-align: top;\n",
              "    }\n",
              "\n",
              "    .dataframe thead th {\n",
              "        text-align: right;\n",
              "    }\n",
              "</style>\n",
              "<table border=\"1\" class=\"dataframe\">\n",
              "  <thead>\n",
              "    <tr style=\"text-align: right;\">\n",
              "      <th></th>\n",
              "      <th>id</th>\n",
              "      <th>campaign_id</th>\n",
              "      <th>coupon_id</th>\n",
              "      <th>customer_id</th>\n",
              "      <th>redemption_status</th>\n",
              "      <th>is_train</th>\n",
              "    </tr>\n",
              "  </thead>\n",
              "  <tbody>\n",
              "    <tr>\n",
              "      <th>0</th>\n",
              "      <td>1</td>\n",
              "      <td>13</td>\n",
              "      <td>27</td>\n",
              "      <td>1053</td>\n",
              "      <td>0</td>\n",
              "      <td>1</td>\n",
              "    </tr>\n",
              "    <tr>\n",
              "      <th>1</th>\n",
              "      <td>2</td>\n",
              "      <td>13</td>\n",
              "      <td>116</td>\n",
              "      <td>48</td>\n",
              "      <td>0</td>\n",
              "      <td>1</td>\n",
              "    </tr>\n",
              "    <tr>\n",
              "      <th>2</th>\n",
              "      <td>6</td>\n",
              "      <td>9</td>\n",
              "      <td>635</td>\n",
              "      <td>205</td>\n",
              "      <td>0</td>\n",
              "      <td>1</td>\n",
              "    </tr>\n",
              "    <tr>\n",
              "      <th>3</th>\n",
              "      <td>7</td>\n",
              "      <td>13</td>\n",
              "      <td>644</td>\n",
              "      <td>1050</td>\n",
              "      <td>0</td>\n",
              "      <td>1</td>\n",
              "    </tr>\n",
              "    <tr>\n",
              "      <th>4</th>\n",
              "      <td>9</td>\n",
              "      <td>8</td>\n",
              "      <td>1017</td>\n",
              "      <td>1489</td>\n",
              "      <td>0</td>\n",
              "      <td>1</td>\n",
              "    </tr>\n",
              "  </tbody>\n",
              "</table>\n",
              "</div>"
            ],
            "text/plain": [
              "   id  campaign_id  coupon_id  customer_id  redemption_status  is_train\n",
              "0   1           13         27         1053                  0         1\n",
              "1   2           13        116           48                  0         1\n",
              "2   6            9        635          205                  0         1\n",
              "3   7           13        644         1050                  0         1\n",
              "4   9            8       1017         1489                  0         1"
            ]
          },
          "metadata": {
            "tags": []
          },
          "execution_count": 15
        }
      ]
    },
    {
      "cell_type": "code",
      "metadata": {
        "id": "pHCmWmEscnd4",
        "outputId": "89737737-3e87-4ca7-a8ea-d48fc2b3baf1",
        "colab": {
          "base_uri": "https://localhost:8080/",
          "height": 35
        }
      },
      "source": [
        "full.shape"
      ],
      "execution_count": 16,
      "outputs": [
        {
          "output_type": "execute_result",
          "data": {
            "text/plain": [
              "(128595, 6)"
            ]
          },
          "metadata": {
            "tags": []
          },
          "execution_count": 16
        }
      ]
    },
    {
      "cell_type": "code",
      "metadata": {
        "id": "ki-x4_s-cnd-",
        "outputId": "a19530c2-fcf8-471a-d9eb-7fb8e99b710f",
        "colab": {
          "base_uri": "https://localhost:8080/",
          "height": 218
        }
      },
      "source": [
        "#we merge our campaign dataset and the full dataset using left join on the campaign id as campaign id is common between them\n",
        "full=pd.merge(full, campaign_data, on=\"campaign_id\", how='left')\n",
        "full.head()"
      ],
      "execution_count": 17,
      "outputs": [
        {
          "output_type": "execute_result",
          "data": {
            "text/html": [
              "<div>\n",
              "<style scoped>\n",
              "    .dataframe tbody tr th:only-of-type {\n",
              "        vertical-align: middle;\n",
              "    }\n",
              "\n",
              "    .dataframe tbody tr th {\n",
              "        vertical-align: top;\n",
              "    }\n",
              "\n",
              "    .dataframe thead th {\n",
              "        text-align: right;\n",
              "    }\n",
              "</style>\n",
              "<table border=\"1\" class=\"dataframe\">\n",
              "  <thead>\n",
              "    <tr style=\"text-align: right;\">\n",
              "      <th></th>\n",
              "      <th>id</th>\n",
              "      <th>campaign_id</th>\n",
              "      <th>coupon_id</th>\n",
              "      <th>customer_id</th>\n",
              "      <th>redemption_status</th>\n",
              "      <th>is_train</th>\n",
              "      <th>campaign_type</th>\n",
              "      <th>start_date</th>\n",
              "      <th>end_date</th>\n",
              "    </tr>\n",
              "  </thead>\n",
              "  <tbody>\n",
              "    <tr>\n",
              "      <th>0</th>\n",
              "      <td>1</td>\n",
              "      <td>13</td>\n",
              "      <td>27</td>\n",
              "      <td>1053</td>\n",
              "      <td>0</td>\n",
              "      <td>1</td>\n",
              "      <td>X</td>\n",
              "      <td>19/05/13</td>\n",
              "      <td>05/07/13</td>\n",
              "    </tr>\n",
              "    <tr>\n",
              "      <th>1</th>\n",
              "      <td>2</td>\n",
              "      <td>13</td>\n",
              "      <td>116</td>\n",
              "      <td>48</td>\n",
              "      <td>0</td>\n",
              "      <td>1</td>\n",
              "      <td>X</td>\n",
              "      <td>19/05/13</td>\n",
              "      <td>05/07/13</td>\n",
              "    </tr>\n",
              "    <tr>\n",
              "      <th>2</th>\n",
              "      <td>6</td>\n",
              "      <td>9</td>\n",
              "      <td>635</td>\n",
              "      <td>205</td>\n",
              "      <td>0</td>\n",
              "      <td>1</td>\n",
              "      <td>Y</td>\n",
              "      <td>11/03/13</td>\n",
              "      <td>12/04/13</td>\n",
              "    </tr>\n",
              "    <tr>\n",
              "      <th>3</th>\n",
              "      <td>7</td>\n",
              "      <td>13</td>\n",
              "      <td>644</td>\n",
              "      <td>1050</td>\n",
              "      <td>0</td>\n",
              "      <td>1</td>\n",
              "      <td>X</td>\n",
              "      <td>19/05/13</td>\n",
              "      <td>05/07/13</td>\n",
              "    </tr>\n",
              "    <tr>\n",
              "      <th>4</th>\n",
              "      <td>9</td>\n",
              "      <td>8</td>\n",
              "      <td>1017</td>\n",
              "      <td>1489</td>\n",
              "      <td>0</td>\n",
              "      <td>1</td>\n",
              "      <td>X</td>\n",
              "      <td>16/02/13</td>\n",
              "      <td>05/04/13</td>\n",
              "    </tr>\n",
              "  </tbody>\n",
              "</table>\n",
              "</div>"
            ],
            "text/plain": [
              "   id  campaign_id  coupon_id  ...  campaign_type  start_date  end_date\n",
              "0   1           13         27  ...              X    19/05/13  05/07/13\n",
              "1   2           13        116  ...              X    19/05/13  05/07/13\n",
              "2   6            9        635  ...              Y    11/03/13  12/04/13\n",
              "3   7           13        644  ...              X    19/05/13  05/07/13\n",
              "4   9            8       1017  ...              X    16/02/13  05/04/13\n",
              "\n",
              "[5 rows x 9 columns]"
            ]
          },
          "metadata": {
            "tags": []
          },
          "execution_count": 17
        }
      ]
    },
    {
      "cell_type": "code",
      "metadata": {
        "id": "a_5RbyI_cneG",
        "outputId": "d50cbf22-3318-4675-d760-8b83194a7f0d",
        "colab": {
          "base_uri": "https://localhost:8080/",
          "height": 35
        }
      },
      "source": [
        "full.shape"
      ],
      "execution_count": 18,
      "outputs": [
        {
          "output_type": "execute_result",
          "data": {
            "text/plain": [
              "(128595, 9)"
            ]
          },
          "metadata": {
            "tags": []
          },
          "execution_count": 18
        }
      ]
    },
    {
      "cell_type": "code",
      "metadata": {
        "scrolled": true,
        "id": "DVNE4s9qcneO",
        "outputId": "88162a88-1cf6-474a-a29e-a3a186b5b169",
        "colab": {
          "base_uri": "https://localhost:8080/",
          "height": 336
        }
      },
      "source": [
        "summary(full)"
      ],
      "execution_count": 19,
      "outputs": [
        {
          "output_type": "stream",
          "text": [
            "Dataset Shape: (128595, 9)\n"
          ],
          "name": "stdout"
        },
        {
          "output_type": "execute_result",
          "data": {
            "text/html": [
              "<div>\n",
              "<style scoped>\n",
              "    .dataframe tbody tr th:only-of-type {\n",
              "        vertical-align: middle;\n",
              "    }\n",
              "\n",
              "    .dataframe tbody tr th {\n",
              "        vertical-align: top;\n",
              "    }\n",
              "\n",
              "    .dataframe thead th {\n",
              "        text-align: right;\n",
              "    }\n",
              "</style>\n",
              "<table border=\"1\" class=\"dataframe\">\n",
              "  <thead>\n",
              "    <tr style=\"text-align: right;\">\n",
              "      <th></th>\n",
              "      <th>Name</th>\n",
              "      <th>dtypes</th>\n",
              "      <th>Missing</th>\n",
              "      <th>Uniques</th>\n",
              "    </tr>\n",
              "  </thead>\n",
              "  <tbody>\n",
              "    <tr>\n",
              "      <th>0</th>\n",
              "      <td>id</td>\n",
              "      <td>int64</td>\n",
              "      <td>0</td>\n",
              "      <td>128595</td>\n",
              "    </tr>\n",
              "    <tr>\n",
              "      <th>1</th>\n",
              "      <td>campaign_id</td>\n",
              "      <td>int64</td>\n",
              "      <td>0</td>\n",
              "      <td>28</td>\n",
              "    </tr>\n",
              "    <tr>\n",
              "      <th>2</th>\n",
              "      <td>coupon_id</td>\n",
              "      <td>int64</td>\n",
              "      <td>0</td>\n",
              "      <td>1116</td>\n",
              "    </tr>\n",
              "    <tr>\n",
              "      <th>3</th>\n",
              "      <td>customer_id</td>\n",
              "      <td>int64</td>\n",
              "      <td>0</td>\n",
              "      <td>1582</td>\n",
              "    </tr>\n",
              "    <tr>\n",
              "      <th>4</th>\n",
              "      <td>redemption_status</td>\n",
              "      <td>int64</td>\n",
              "      <td>0</td>\n",
              "      <td>3</td>\n",
              "    </tr>\n",
              "    <tr>\n",
              "      <th>5</th>\n",
              "      <td>is_train</td>\n",
              "      <td>int64</td>\n",
              "      <td>0</td>\n",
              "      <td>2</td>\n",
              "    </tr>\n",
              "    <tr>\n",
              "      <th>6</th>\n",
              "      <td>campaign_type</td>\n",
              "      <td>object</td>\n",
              "      <td>0</td>\n",
              "      <td>2</td>\n",
              "    </tr>\n",
              "    <tr>\n",
              "      <th>7</th>\n",
              "      <td>start_date</td>\n",
              "      <td>object</td>\n",
              "      <td>0</td>\n",
              "      <td>25</td>\n",
              "    </tr>\n",
              "    <tr>\n",
              "      <th>8</th>\n",
              "      <td>end_date</td>\n",
              "      <td>object</td>\n",
              "      <td>0</td>\n",
              "      <td>26</td>\n",
              "    </tr>\n",
              "  </tbody>\n",
              "</table>\n",
              "</div>"
            ],
            "text/plain": [
              "                Name  dtypes  Missing  Uniques\n",
              "0                 id   int64        0   128595\n",
              "1        campaign_id   int64        0       28\n",
              "2          coupon_id   int64        0     1116\n",
              "3        customer_id   int64        0     1582\n",
              "4  redemption_status   int64        0        3\n",
              "5           is_train   int64        0        2\n",
              "6      campaign_type  object        0        2\n",
              "7         start_date  object        0       25\n",
              "8           end_date  object        0       26"
            ]
          },
          "metadata": {
            "tags": []
          },
          "execution_count": 19
        }
      ]
    },
    {
      "cell_type": "markdown",
      "metadata": {
        "id": "gGS1Dd8mcyjg"
      },
      "source": [
        "## ITEM DATA AND COUPON ITEM MAPPING"
      ]
    },
    {
      "cell_type": "code",
      "metadata": {
        "id": "j5vVbcO_cqCA",
        "outputId": "17f5a801-98f9-41ec-f040-7c914073b033",
        "colab": {
          "base_uri": "https://localhost:8080/",
          "height": 186
        }
      },
      "source": [
        "summary(item_data)"
      ],
      "execution_count": 20,
      "outputs": [
        {
          "output_type": "stream",
          "text": [
            "Dataset Shape: (74066, 4)\n"
          ],
          "name": "stdout"
        },
        {
          "output_type": "execute_result",
          "data": {
            "text/html": [
              "<div>\n",
              "<style scoped>\n",
              "    .dataframe tbody tr th:only-of-type {\n",
              "        vertical-align: middle;\n",
              "    }\n",
              "\n",
              "    .dataframe tbody tr th {\n",
              "        vertical-align: top;\n",
              "    }\n",
              "\n",
              "    .dataframe thead th {\n",
              "        text-align: right;\n",
              "    }\n",
              "</style>\n",
              "<table border=\"1\" class=\"dataframe\">\n",
              "  <thead>\n",
              "    <tr style=\"text-align: right;\">\n",
              "      <th></th>\n",
              "      <th>Name</th>\n",
              "      <th>dtypes</th>\n",
              "      <th>Missing</th>\n",
              "      <th>Uniques</th>\n",
              "    </tr>\n",
              "  </thead>\n",
              "  <tbody>\n",
              "    <tr>\n",
              "      <th>0</th>\n",
              "      <td>item_id</td>\n",
              "      <td>int64</td>\n",
              "      <td>0</td>\n",
              "      <td>74066</td>\n",
              "    </tr>\n",
              "    <tr>\n",
              "      <th>1</th>\n",
              "      <td>brand</td>\n",
              "      <td>int64</td>\n",
              "      <td>0</td>\n",
              "      <td>5528</td>\n",
              "    </tr>\n",
              "    <tr>\n",
              "      <th>2</th>\n",
              "      <td>brand_type</td>\n",
              "      <td>object</td>\n",
              "      <td>0</td>\n",
              "      <td>2</td>\n",
              "    </tr>\n",
              "    <tr>\n",
              "      <th>3</th>\n",
              "      <td>category</td>\n",
              "      <td>object</td>\n",
              "      <td>0</td>\n",
              "      <td>19</td>\n",
              "    </tr>\n",
              "  </tbody>\n",
              "</table>\n",
              "</div>"
            ],
            "text/plain": [
              "         Name  dtypes  Missing  Uniques\n",
              "0     item_id   int64        0    74066\n",
              "1       brand   int64        0     5528\n",
              "2  brand_type  object        0        2\n",
              "3    category  object        0       19"
            ]
          },
          "metadata": {
            "tags": []
          },
          "execution_count": 20
        }
      ]
    },
    {
      "cell_type": "code",
      "metadata": {
        "id": "2vGY4t6PcqSl",
        "outputId": "970060cf-7fc5-4935-f3f5-3efedbe39e6b",
        "colab": {
          "base_uri": "https://localhost:8080/",
          "height": 126
        }
      },
      "source": [
        "summary(coupon_item_map)"
      ],
      "execution_count": 21,
      "outputs": [
        {
          "output_type": "stream",
          "text": [
            "Dataset Shape: (92663, 2)\n"
          ],
          "name": "stdout"
        },
        {
          "output_type": "execute_result",
          "data": {
            "text/html": [
              "<div>\n",
              "<style scoped>\n",
              "    .dataframe tbody tr th:only-of-type {\n",
              "        vertical-align: middle;\n",
              "    }\n",
              "\n",
              "    .dataframe tbody tr th {\n",
              "        vertical-align: top;\n",
              "    }\n",
              "\n",
              "    .dataframe thead th {\n",
              "        text-align: right;\n",
              "    }\n",
              "</style>\n",
              "<table border=\"1\" class=\"dataframe\">\n",
              "  <thead>\n",
              "    <tr style=\"text-align: right;\">\n",
              "      <th></th>\n",
              "      <th>Name</th>\n",
              "      <th>dtypes</th>\n",
              "      <th>Missing</th>\n",
              "      <th>Uniques</th>\n",
              "    </tr>\n",
              "  </thead>\n",
              "  <tbody>\n",
              "    <tr>\n",
              "      <th>0</th>\n",
              "      <td>coupon_id</td>\n",
              "      <td>int64</td>\n",
              "      <td>0</td>\n",
              "      <td>1116</td>\n",
              "    </tr>\n",
              "    <tr>\n",
              "      <th>1</th>\n",
              "      <td>item_id</td>\n",
              "      <td>int64</td>\n",
              "      <td>0</td>\n",
              "      <td>36289</td>\n",
              "    </tr>\n",
              "  </tbody>\n",
              "</table>\n",
              "</div>"
            ],
            "text/plain": [
              "        Name dtypes  Missing  Uniques\n",
              "0  coupon_id  int64        0     1116\n",
              "1    item_id  int64        0    36289"
            ]
          },
          "metadata": {
            "tags": []
          },
          "execution_count": 21
        }
      ]
    },
    {
      "cell_type": "code",
      "metadata": {
        "id": "FtzSqc0ZcqQS",
        "outputId": "e68b3e4a-51c2-4050-ef8d-12af67a0739c",
        "colab": {
          "base_uri": "https://localhost:8080/",
          "height": 198
        }
      },
      "source": [
        "for j in ['brand', 'brand_type', 'category']:\n",
        "    item_data[j]=item_data[j].astype('category')\n",
        "    \n",
        "coupon_item_map=coupon_item_map.merge(item_data,on='item_id',how='left')\n",
        "coupon_item_map.head()"
      ],
      "execution_count": 22,
      "outputs": [
        {
          "output_type": "execute_result",
          "data": {
            "text/html": [
              "<div>\n",
              "<style scoped>\n",
              "    .dataframe tbody tr th:only-of-type {\n",
              "        vertical-align: middle;\n",
              "    }\n",
              "\n",
              "    .dataframe tbody tr th {\n",
              "        vertical-align: top;\n",
              "    }\n",
              "\n",
              "    .dataframe thead th {\n",
              "        text-align: right;\n",
              "    }\n",
              "</style>\n",
              "<table border=\"1\" class=\"dataframe\">\n",
              "  <thead>\n",
              "    <tr style=\"text-align: right;\">\n",
              "      <th></th>\n",
              "      <th>coupon_id</th>\n",
              "      <th>item_id</th>\n",
              "      <th>brand</th>\n",
              "      <th>brand_type</th>\n",
              "      <th>category</th>\n",
              "    </tr>\n",
              "  </thead>\n",
              "  <tbody>\n",
              "    <tr>\n",
              "      <th>0</th>\n",
              "      <td>105</td>\n",
              "      <td>37</td>\n",
              "      <td>56</td>\n",
              "      <td>Local</td>\n",
              "      <td>Grocery</td>\n",
              "    </tr>\n",
              "    <tr>\n",
              "      <th>1</th>\n",
              "      <td>107</td>\n",
              "      <td>75</td>\n",
              "      <td>56</td>\n",
              "      <td>Local</td>\n",
              "      <td>Grocery</td>\n",
              "    </tr>\n",
              "    <tr>\n",
              "      <th>2</th>\n",
              "      <td>494</td>\n",
              "      <td>76</td>\n",
              "      <td>209</td>\n",
              "      <td>Established</td>\n",
              "      <td>Grocery</td>\n",
              "    </tr>\n",
              "    <tr>\n",
              "      <th>3</th>\n",
              "      <td>522</td>\n",
              "      <td>77</td>\n",
              "      <td>278</td>\n",
              "      <td>Established</td>\n",
              "      <td>Grocery</td>\n",
              "    </tr>\n",
              "    <tr>\n",
              "      <th>4</th>\n",
              "      <td>518</td>\n",
              "      <td>77</td>\n",
              "      <td>278</td>\n",
              "      <td>Established</td>\n",
              "      <td>Grocery</td>\n",
              "    </tr>\n",
              "  </tbody>\n",
              "</table>\n",
              "</div>"
            ],
            "text/plain": [
              "   coupon_id  item_id brand   brand_type category\n",
              "0        105       37    56        Local  Grocery\n",
              "1        107       75    56        Local  Grocery\n",
              "2        494       76   209  Established  Grocery\n",
              "3        522       77   278  Established  Grocery\n",
              "4        518       77   278  Established  Grocery"
            ]
          },
          "metadata": {
            "tags": []
          },
          "execution_count": 22
        }
      ]
    },
    {
      "cell_type": "code",
      "metadata": {
        "id": "7CH8_UFzcqOe",
        "outputId": "20d23897-19c5-4ddb-ef33-5e636711668b",
        "colab": {
          "base_uri": "https://localhost:8080/",
          "height": 216
        }
      },
      "source": [
        "summary(coupon_item_map)"
      ],
      "execution_count": 23,
      "outputs": [
        {
          "output_type": "stream",
          "text": [
            "Dataset Shape: (92663, 5)\n"
          ],
          "name": "stdout"
        },
        {
          "output_type": "execute_result",
          "data": {
            "text/html": [
              "<div>\n",
              "<style scoped>\n",
              "    .dataframe tbody tr th:only-of-type {\n",
              "        vertical-align: middle;\n",
              "    }\n",
              "\n",
              "    .dataframe tbody tr th {\n",
              "        vertical-align: top;\n",
              "    }\n",
              "\n",
              "    .dataframe thead th {\n",
              "        text-align: right;\n",
              "    }\n",
              "</style>\n",
              "<table border=\"1\" class=\"dataframe\">\n",
              "  <thead>\n",
              "    <tr style=\"text-align: right;\">\n",
              "      <th></th>\n",
              "      <th>Name</th>\n",
              "      <th>dtypes</th>\n",
              "      <th>Missing</th>\n",
              "      <th>Uniques</th>\n",
              "    </tr>\n",
              "  </thead>\n",
              "  <tbody>\n",
              "    <tr>\n",
              "      <th>0</th>\n",
              "      <td>coupon_id</td>\n",
              "      <td>int64</td>\n",
              "      <td>0</td>\n",
              "      <td>1116</td>\n",
              "    </tr>\n",
              "    <tr>\n",
              "      <th>1</th>\n",
              "      <td>item_id</td>\n",
              "      <td>int64</td>\n",
              "      <td>0</td>\n",
              "      <td>36289</td>\n",
              "    </tr>\n",
              "    <tr>\n",
              "      <th>2</th>\n",
              "      <td>brand</td>\n",
              "      <td>category</td>\n",
              "      <td>0</td>\n",
              "      <td>2555</td>\n",
              "    </tr>\n",
              "    <tr>\n",
              "      <th>3</th>\n",
              "      <td>brand_type</td>\n",
              "      <td>category</td>\n",
              "      <td>0</td>\n",
              "      <td>2</td>\n",
              "    </tr>\n",
              "    <tr>\n",
              "      <th>4</th>\n",
              "      <td>category</td>\n",
              "      <td>category</td>\n",
              "      <td>0</td>\n",
              "      <td>17</td>\n",
              "    </tr>\n",
              "  </tbody>\n",
              "</table>\n",
              "</div>"
            ],
            "text/plain": [
              "         Name    dtypes  Missing  Uniques\n",
              "0   coupon_id     int64        0     1116\n",
              "1     item_id     int64        0    36289\n",
              "2       brand  category        0     2555\n",
              "3  brand_type  category        0        2\n",
              "4    category  category        0       17"
            ]
          },
          "metadata": {
            "tags": []
          },
          "execution_count": 23
        }
      ]
    },
    {
      "cell_type": "markdown",
      "metadata": {
        "id": "rXErUQ03edaK"
      },
      "source": [
        "Customer-Transaction"
      ]
    },
    {
      "cell_type": "code",
      "metadata": {
        "id": "GCAhJNOpcqK1",
        "outputId": "3154c68e-fe51-46f0-97db-75bb311fe1c7",
        "colab": {
          "base_uri": "https://localhost:8080/",
          "height": 341
        }
      },
      "source": [
        "#converting date to date time and determining the day, month and year\n",
        "customer_transaction['date']=pd.to_datetime(customer_transaction['date'],format='%Y-%m-%d')\n",
        "customer_transaction['day']=customer_transaction['date'].dt.day.astype('category')\n",
        "customer_transaction['month']=customer_transaction['date'].dt.month.astype('category')\n",
        "customer_transaction['year']=customer_transaction['date'].dt.week.astype('category')\n",
        "customer_transaction.head()"
      ],
      "execution_count": 24,
      "outputs": [
        {
          "output_type": "stream",
          "text": [
            "/usr/local/lib/python3.6/dist-packages/ipykernel_launcher.py:4: FutureWarning: Series.dt.weekofyear and Series.dt.week have been deprecated.  Please use Series.dt.isocalendar().week instead.\n",
            "  after removing the cwd from sys.path.\n"
          ],
          "name": "stderr"
        },
        {
          "output_type": "execute_result",
          "data": {
            "text/html": [
              "<div>\n",
              "<style scoped>\n",
              "    .dataframe tbody tr th:only-of-type {\n",
              "        vertical-align: middle;\n",
              "    }\n",
              "\n",
              "    .dataframe tbody tr th {\n",
              "        vertical-align: top;\n",
              "    }\n",
              "\n",
              "    .dataframe thead th {\n",
              "        text-align: right;\n",
              "    }\n",
              "</style>\n",
              "<table border=\"1\" class=\"dataframe\">\n",
              "  <thead>\n",
              "    <tr style=\"text-align: right;\">\n",
              "      <th></th>\n",
              "      <th>date</th>\n",
              "      <th>customer_id</th>\n",
              "      <th>item_id</th>\n",
              "      <th>quantity</th>\n",
              "      <th>selling_price</th>\n",
              "      <th>other_discount</th>\n",
              "      <th>coupon_discount</th>\n",
              "      <th>day</th>\n",
              "      <th>month</th>\n",
              "      <th>year</th>\n",
              "    </tr>\n",
              "  </thead>\n",
              "  <tbody>\n",
              "    <tr>\n",
              "      <th>0</th>\n",
              "      <td>2012-01-02</td>\n",
              "      <td>1501</td>\n",
              "      <td>26830</td>\n",
              "      <td>1</td>\n",
              "      <td>35.26</td>\n",
              "      <td>-10.69</td>\n",
              "      <td>0.0</td>\n",
              "      <td>2</td>\n",
              "      <td>1</td>\n",
              "      <td>1</td>\n",
              "    </tr>\n",
              "    <tr>\n",
              "      <th>1</th>\n",
              "      <td>2012-01-02</td>\n",
              "      <td>1501</td>\n",
              "      <td>54253</td>\n",
              "      <td>1</td>\n",
              "      <td>53.43</td>\n",
              "      <td>-13.89</td>\n",
              "      <td>0.0</td>\n",
              "      <td>2</td>\n",
              "      <td>1</td>\n",
              "      <td>1</td>\n",
              "    </tr>\n",
              "    <tr>\n",
              "      <th>2</th>\n",
              "      <td>2012-01-02</td>\n",
              "      <td>1501</td>\n",
              "      <td>31962</td>\n",
              "      <td>1</td>\n",
              "      <td>106.50</td>\n",
              "      <td>-14.25</td>\n",
              "      <td>0.0</td>\n",
              "      <td>2</td>\n",
              "      <td>1</td>\n",
              "      <td>1</td>\n",
              "    </tr>\n",
              "    <tr>\n",
              "      <th>3</th>\n",
              "      <td>2012-01-02</td>\n",
              "      <td>1501</td>\n",
              "      <td>33647</td>\n",
              "      <td>1</td>\n",
              "      <td>67.32</td>\n",
              "      <td>0.00</td>\n",
              "      <td>0.0</td>\n",
              "      <td>2</td>\n",
              "      <td>1</td>\n",
              "      <td>1</td>\n",
              "    </tr>\n",
              "    <tr>\n",
              "      <th>4</th>\n",
              "      <td>2012-01-02</td>\n",
              "      <td>1501</td>\n",
              "      <td>48199</td>\n",
              "      <td>1</td>\n",
              "      <td>71.24</td>\n",
              "      <td>-28.14</td>\n",
              "      <td>0.0</td>\n",
              "      <td>2</td>\n",
              "      <td>1</td>\n",
              "      <td>1</td>\n",
              "    </tr>\n",
              "  </tbody>\n",
              "</table>\n",
              "</div>"
            ],
            "text/plain": [
              "        date  customer_id  item_id  quantity  ...  coupon_discount  day  month year\n",
              "0 2012-01-02         1501    26830         1  ...              0.0    2      1    1\n",
              "1 2012-01-02         1501    54253         1  ...              0.0    2      1    1\n",
              "2 2012-01-02         1501    31962         1  ...              0.0    2      1    1\n",
              "3 2012-01-02         1501    33647         1  ...              0.0    2      1    1\n",
              "4 2012-01-02         1501    48199         1  ...              0.0    2      1    1\n",
              "\n",
              "[5 rows x 10 columns]"
            ]
          },
          "metadata": {
            "tags": []
          },
          "execution_count": 24
        }
      ]
    },
    {
      "cell_type": "code",
      "metadata": {
        "id": "AUqCPsZdcps9",
        "outputId": "64626b8f-87a8-4f90-a5cd-40bb3908e0bc",
        "colab": {
          "base_uri": "https://localhost:8080/",
          "height": 305
        }
      },
      "source": [
        "#making new features like marked price, discount percentage and price per quantity\n",
        "customer_transaction['marked_price']=customer_transaction['selling_price']-customer_transaction['other_discount']-customer_transaction['coupon_discount']\n",
        "customer_transaction['disc_percent']=(customer_transaction['marked_price']-customer_transaction['selling_price'])/customer_transaction['selling_price']\n",
        "customer_transaction['price_per_quan']=customer_transaction['marked_price']/customer_transaction['quantity']\n",
        "customer_transaction.head()"
      ],
      "execution_count": 25,
      "outputs": [
        {
          "output_type": "execute_result",
          "data": {
            "text/html": [
              "<div>\n",
              "<style scoped>\n",
              "    .dataframe tbody tr th:only-of-type {\n",
              "        vertical-align: middle;\n",
              "    }\n",
              "\n",
              "    .dataframe tbody tr th {\n",
              "        vertical-align: top;\n",
              "    }\n",
              "\n",
              "    .dataframe thead th {\n",
              "        text-align: right;\n",
              "    }\n",
              "</style>\n",
              "<table border=\"1\" class=\"dataframe\">\n",
              "  <thead>\n",
              "    <tr style=\"text-align: right;\">\n",
              "      <th></th>\n",
              "      <th>date</th>\n",
              "      <th>customer_id</th>\n",
              "      <th>item_id</th>\n",
              "      <th>quantity</th>\n",
              "      <th>selling_price</th>\n",
              "      <th>other_discount</th>\n",
              "      <th>coupon_discount</th>\n",
              "      <th>day</th>\n",
              "      <th>month</th>\n",
              "      <th>year</th>\n",
              "      <th>marked_price</th>\n",
              "      <th>disc_percent</th>\n",
              "      <th>price_per_quan</th>\n",
              "    </tr>\n",
              "  </thead>\n",
              "  <tbody>\n",
              "    <tr>\n",
              "      <th>0</th>\n",
              "      <td>2012-01-02</td>\n",
              "      <td>1501</td>\n",
              "      <td>26830</td>\n",
              "      <td>1</td>\n",
              "      <td>35.26</td>\n",
              "      <td>-10.69</td>\n",
              "      <td>0.0</td>\n",
              "      <td>2</td>\n",
              "      <td>1</td>\n",
              "      <td>1</td>\n",
              "      <td>45.95</td>\n",
              "      <td>0.303176</td>\n",
              "      <td>45.95</td>\n",
              "    </tr>\n",
              "    <tr>\n",
              "      <th>1</th>\n",
              "      <td>2012-01-02</td>\n",
              "      <td>1501</td>\n",
              "      <td>54253</td>\n",
              "      <td>1</td>\n",
              "      <td>53.43</td>\n",
              "      <td>-13.89</td>\n",
              "      <td>0.0</td>\n",
              "      <td>2</td>\n",
              "      <td>1</td>\n",
              "      <td>1</td>\n",
              "      <td>67.32</td>\n",
              "      <td>0.259966</td>\n",
              "      <td>67.32</td>\n",
              "    </tr>\n",
              "    <tr>\n",
              "      <th>2</th>\n",
              "      <td>2012-01-02</td>\n",
              "      <td>1501</td>\n",
              "      <td>31962</td>\n",
              "      <td>1</td>\n",
              "      <td>106.50</td>\n",
              "      <td>-14.25</td>\n",
              "      <td>0.0</td>\n",
              "      <td>2</td>\n",
              "      <td>1</td>\n",
              "      <td>1</td>\n",
              "      <td>120.75</td>\n",
              "      <td>0.133803</td>\n",
              "      <td>120.75</td>\n",
              "    </tr>\n",
              "    <tr>\n",
              "      <th>3</th>\n",
              "      <td>2012-01-02</td>\n",
              "      <td>1501</td>\n",
              "      <td>33647</td>\n",
              "      <td>1</td>\n",
              "      <td>67.32</td>\n",
              "      <td>0.00</td>\n",
              "      <td>0.0</td>\n",
              "      <td>2</td>\n",
              "      <td>1</td>\n",
              "      <td>1</td>\n",
              "      <td>67.32</td>\n",
              "      <td>0.000000</td>\n",
              "      <td>67.32</td>\n",
              "    </tr>\n",
              "    <tr>\n",
              "      <th>4</th>\n",
              "      <td>2012-01-02</td>\n",
              "      <td>1501</td>\n",
              "      <td>48199</td>\n",
              "      <td>1</td>\n",
              "      <td>71.24</td>\n",
              "      <td>-28.14</td>\n",
              "      <td>0.0</td>\n",
              "      <td>2</td>\n",
              "      <td>1</td>\n",
              "      <td>1</td>\n",
              "      <td>99.38</td>\n",
              "      <td>0.395003</td>\n",
              "      <td>99.38</td>\n",
              "    </tr>\n",
              "  </tbody>\n",
              "</table>\n",
              "</div>"
            ],
            "text/plain": [
              "        date  customer_id  item_id  ...  marked_price  disc_percent  price_per_quan\n",
              "0 2012-01-02         1501    26830  ...         45.95      0.303176           45.95\n",
              "1 2012-01-02         1501    54253  ...         67.32      0.259966           67.32\n",
              "2 2012-01-02         1501    31962  ...        120.75      0.133803          120.75\n",
              "3 2012-01-02         1501    33647  ...         67.32      0.000000           67.32\n",
              "4 2012-01-02         1501    48199  ...         99.38      0.395003           99.38\n",
              "\n",
              "[5 rows x 13 columns]"
            ]
          },
          "metadata": {
            "tags": []
          },
          "execution_count": 25
        }
      ]
    },
    {
      "cell_type": "markdown",
      "metadata": {
        "id": "LZR4i46kfkXh"
      },
      "source": [
        "merging customer transaction and coupon item mapping on item id"
      ]
    },
    {
      "cell_type": "code",
      "metadata": {
        "id": "CJTXy7x4fv9t",
        "outputId": "188a6df7-a5f3-4e35-b033-aaa91ccf758d",
        "colab": {
          "base_uri": "https://localhost:8080/",
          "height": 305
        }
      },
      "source": [
        "trans_coupon_item=pd.merge(customer_transaction, coupon_item_map, on=['item_id'], how='left')\n",
        "trans_coupon_item.head()"
      ],
      "execution_count": 26,
      "outputs": [
        {
          "output_type": "execute_result",
          "data": {
            "text/html": [
              "<div>\n",
              "<style scoped>\n",
              "    .dataframe tbody tr th:only-of-type {\n",
              "        vertical-align: middle;\n",
              "    }\n",
              "\n",
              "    .dataframe tbody tr th {\n",
              "        vertical-align: top;\n",
              "    }\n",
              "\n",
              "    .dataframe thead th {\n",
              "        text-align: right;\n",
              "    }\n",
              "</style>\n",
              "<table border=\"1\" class=\"dataframe\">\n",
              "  <thead>\n",
              "    <tr style=\"text-align: right;\">\n",
              "      <th></th>\n",
              "      <th>date</th>\n",
              "      <th>customer_id</th>\n",
              "      <th>item_id</th>\n",
              "      <th>quantity</th>\n",
              "      <th>selling_price</th>\n",
              "      <th>other_discount</th>\n",
              "      <th>coupon_discount</th>\n",
              "      <th>day</th>\n",
              "      <th>month</th>\n",
              "      <th>year</th>\n",
              "      <th>marked_price</th>\n",
              "      <th>disc_percent</th>\n",
              "      <th>price_per_quan</th>\n",
              "      <th>coupon_id</th>\n",
              "      <th>brand</th>\n",
              "      <th>brand_type</th>\n",
              "      <th>category</th>\n",
              "    </tr>\n",
              "  </thead>\n",
              "  <tbody>\n",
              "    <tr>\n",
              "      <th>0</th>\n",
              "      <td>2012-01-02</td>\n",
              "      <td>1501</td>\n",
              "      <td>26830</td>\n",
              "      <td>1</td>\n",
              "      <td>35.26</td>\n",
              "      <td>-10.69</td>\n",
              "      <td>0.0</td>\n",
              "      <td>2</td>\n",
              "      <td>1</td>\n",
              "      <td>1</td>\n",
              "      <td>45.95</td>\n",
              "      <td>0.303176</td>\n",
              "      <td>45.95</td>\n",
              "      <td>7.0</td>\n",
              "      <td>56</td>\n",
              "      <td>Local</td>\n",
              "      <td>Natural Products</td>\n",
              "    </tr>\n",
              "    <tr>\n",
              "      <th>1</th>\n",
              "      <td>2012-01-02</td>\n",
              "      <td>1501</td>\n",
              "      <td>26830</td>\n",
              "      <td>1</td>\n",
              "      <td>35.26</td>\n",
              "      <td>-10.69</td>\n",
              "      <td>0.0</td>\n",
              "      <td>2</td>\n",
              "      <td>1</td>\n",
              "      <td>1</td>\n",
              "      <td>45.95</td>\n",
              "      <td>0.303176</td>\n",
              "      <td>45.95</td>\n",
              "      <td>20.0</td>\n",
              "      <td>56</td>\n",
              "      <td>Local</td>\n",
              "      <td>Natural Products</td>\n",
              "    </tr>\n",
              "    <tr>\n",
              "      <th>2</th>\n",
              "      <td>2012-01-02</td>\n",
              "      <td>1501</td>\n",
              "      <td>26830</td>\n",
              "      <td>1</td>\n",
              "      <td>35.26</td>\n",
              "      <td>-10.69</td>\n",
              "      <td>0.0</td>\n",
              "      <td>2</td>\n",
              "      <td>1</td>\n",
              "      <td>1</td>\n",
              "      <td>45.95</td>\n",
              "      <td>0.303176</td>\n",
              "      <td>45.95</td>\n",
              "      <td>29.0</td>\n",
              "      <td>56</td>\n",
              "      <td>Local</td>\n",
              "      <td>Natural Products</td>\n",
              "    </tr>\n",
              "    <tr>\n",
              "      <th>3</th>\n",
              "      <td>2012-01-02</td>\n",
              "      <td>1501</td>\n",
              "      <td>54253</td>\n",
              "      <td>1</td>\n",
              "      <td>53.43</td>\n",
              "      <td>-13.89</td>\n",
              "      <td>0.0</td>\n",
              "      <td>2</td>\n",
              "      <td>1</td>\n",
              "      <td>1</td>\n",
              "      <td>67.32</td>\n",
              "      <td>0.259966</td>\n",
              "      <td>67.32</td>\n",
              "      <td>7.0</td>\n",
              "      <td>56</td>\n",
              "      <td>Local</td>\n",
              "      <td>Natural Products</td>\n",
              "    </tr>\n",
              "    <tr>\n",
              "      <th>4</th>\n",
              "      <td>2012-01-02</td>\n",
              "      <td>1501</td>\n",
              "      <td>54253</td>\n",
              "      <td>1</td>\n",
              "      <td>53.43</td>\n",
              "      <td>-13.89</td>\n",
              "      <td>0.0</td>\n",
              "      <td>2</td>\n",
              "      <td>1</td>\n",
              "      <td>1</td>\n",
              "      <td>67.32</td>\n",
              "      <td>0.259966</td>\n",
              "      <td>67.32</td>\n",
              "      <td>20.0</td>\n",
              "      <td>56</td>\n",
              "      <td>Local</td>\n",
              "      <td>Natural Products</td>\n",
              "    </tr>\n",
              "  </tbody>\n",
              "</table>\n",
              "</div>"
            ],
            "text/plain": [
              "        date  customer_id  item_id  ...  brand  brand_type          category\n",
              "0 2012-01-02         1501    26830  ...     56       Local  Natural Products\n",
              "1 2012-01-02         1501    26830  ...     56       Local  Natural Products\n",
              "2 2012-01-02         1501    26830  ...     56       Local  Natural Products\n",
              "3 2012-01-02         1501    54253  ...     56       Local  Natural Products\n",
              "4 2012-01-02         1501    54253  ...     56       Local  Natural Products\n",
              "\n",
              "[5 rows x 17 columns]"
            ]
          },
          "metadata": {
            "tags": []
          },
          "execution_count": 26
        }
      ]
    },
    {
      "cell_type": "code",
      "metadata": {
        "id": "uRbLRq_VgBbf",
        "outputId": "3e1b86ec-5611-42fe-d16e-c67a9edcf337",
        "colab": {
          "base_uri": "https://localhost:8080/",
          "height": 576
        }
      },
      "source": [
        "summary(trans_coupon_item)"
      ],
      "execution_count": 27,
      "outputs": [
        {
          "output_type": "stream",
          "text": [
            "Dataset Shape: (590088, 17)\n"
          ],
          "name": "stdout"
        },
        {
          "output_type": "execute_result",
          "data": {
            "text/html": [
              "<div>\n",
              "<style scoped>\n",
              "    .dataframe tbody tr th:only-of-type {\n",
              "        vertical-align: middle;\n",
              "    }\n",
              "\n",
              "    .dataframe tbody tr th {\n",
              "        vertical-align: top;\n",
              "    }\n",
              "\n",
              "    .dataframe thead th {\n",
              "        text-align: right;\n",
              "    }\n",
              "</style>\n",
              "<table border=\"1\" class=\"dataframe\">\n",
              "  <thead>\n",
              "    <tr style=\"text-align: right;\">\n",
              "      <th></th>\n",
              "      <th>Name</th>\n",
              "      <th>dtypes</th>\n",
              "      <th>Missing</th>\n",
              "      <th>Uniques</th>\n",
              "    </tr>\n",
              "  </thead>\n",
              "  <tbody>\n",
              "    <tr>\n",
              "      <th>0</th>\n",
              "      <td>date</td>\n",
              "      <td>datetime64[ns]</td>\n",
              "      <td>0</td>\n",
              "      <td>176</td>\n",
              "    </tr>\n",
              "    <tr>\n",
              "      <th>1</th>\n",
              "      <td>customer_id</td>\n",
              "      <td>int64</td>\n",
              "      <td>0</td>\n",
              "      <td>1579</td>\n",
              "    </tr>\n",
              "    <tr>\n",
              "      <th>2</th>\n",
              "      <td>item_id</td>\n",
              "      <td>int64</td>\n",
              "      <td>0</td>\n",
              "      <td>38028</td>\n",
              "    </tr>\n",
              "    <tr>\n",
              "      <th>3</th>\n",
              "      <td>quantity</td>\n",
              "      <td>int64</td>\n",
              "      <td>0</td>\n",
              "      <td>2740</td>\n",
              "    </tr>\n",
              "    <tr>\n",
              "      <th>4</th>\n",
              "      <td>selling_price</td>\n",
              "      <td>float64</td>\n",
              "      <td>0</td>\n",
              "      <td>2877</td>\n",
              "    </tr>\n",
              "    <tr>\n",
              "      <th>5</th>\n",
              "      <td>other_discount</td>\n",
              "      <td>float64</td>\n",
              "      <td>1</td>\n",
              "      <td>883</td>\n",
              "    </tr>\n",
              "    <tr>\n",
              "      <th>6</th>\n",
              "      <td>coupon_discount</td>\n",
              "      <td>float64</td>\n",
              "      <td>1</td>\n",
              "      <td>110</td>\n",
              "    </tr>\n",
              "    <tr>\n",
              "      <th>7</th>\n",
              "      <td>day</td>\n",
              "      <td>category</td>\n",
              "      <td>0</td>\n",
              "      <td>31</td>\n",
              "    </tr>\n",
              "    <tr>\n",
              "      <th>8</th>\n",
              "      <td>month</td>\n",
              "      <td>category</td>\n",
              "      <td>0</td>\n",
              "      <td>6</td>\n",
              "    </tr>\n",
              "    <tr>\n",
              "      <th>9</th>\n",
              "      <td>year</td>\n",
              "      <td>category</td>\n",
              "      <td>0</td>\n",
              "      <td>26</td>\n",
              "    </tr>\n",
              "    <tr>\n",
              "      <th>10</th>\n",
              "      <td>marked_price</td>\n",
              "      <td>float64</td>\n",
              "      <td>1</td>\n",
              "      <td>5081</td>\n",
              "    </tr>\n",
              "    <tr>\n",
              "      <th>11</th>\n",
              "      <td>disc_percent</td>\n",
              "      <td>float64</td>\n",
              "      <td>1</td>\n",
              "      <td>10304</td>\n",
              "    </tr>\n",
              "    <tr>\n",
              "      <th>12</th>\n",
              "      <td>price_per_quan</td>\n",
              "      <td>float64</td>\n",
              "      <td>1</td>\n",
              "      <td>7078</td>\n",
              "    </tr>\n",
              "    <tr>\n",
              "      <th>13</th>\n",
              "      <td>coupon_id</td>\n",
              "      <td>float64</td>\n",
              "      <td>124595</td>\n",
              "      <td>1004</td>\n",
              "    </tr>\n",
              "    <tr>\n",
              "      <th>14</th>\n",
              "      <td>brand</td>\n",
              "      <td>category</td>\n",
              "      <td>124595</td>\n",
              "      <td>1587</td>\n",
              "    </tr>\n",
              "    <tr>\n",
              "      <th>15</th>\n",
              "      <td>brand_type</td>\n",
              "      <td>category</td>\n",
              "      <td>124595</td>\n",
              "      <td>2</td>\n",
              "    </tr>\n",
              "    <tr>\n",
              "      <th>16</th>\n",
              "      <td>category</td>\n",
              "      <td>category</td>\n",
              "      <td>124595</td>\n",
              "      <td>16</td>\n",
              "    </tr>\n",
              "  </tbody>\n",
              "</table>\n",
              "</div>"
            ],
            "text/plain": [
              "               Name          dtypes  Missing  Uniques\n",
              "0              date  datetime64[ns]        0      176\n",
              "1       customer_id           int64        0     1579\n",
              "2           item_id           int64        0    38028\n",
              "3          quantity           int64        0     2740\n",
              "4     selling_price         float64        0     2877\n",
              "5    other_discount         float64        1      883\n",
              "6   coupon_discount         float64        1      110\n",
              "7               day        category        0       31\n",
              "8             month        category        0        6\n",
              "9              year        category        0       26\n",
              "10     marked_price         float64        1     5081\n",
              "11     disc_percent         float64        1    10304\n",
              "12   price_per_quan         float64        1     7078\n",
              "13        coupon_id         float64   124595     1004\n",
              "14            brand        category   124595     1587\n",
              "15       brand_type        category   124595        2\n",
              "16         category        category   124595       16"
            ]
          },
          "metadata": {
            "tags": []
          },
          "execution_count": 27
        }
      ]
    },
    {
      "cell_type": "code",
      "metadata": {
        "id": "Ye0-0L-80ZqK",
        "outputId": "f768cadd-147b-4940-9c29-283bc60801c1",
        "colab": {
          "base_uri": "https://localhost:8080/",
          "height": 576
        }
      },
      "source": [
        "trans_coupon_item=trans_coupon_item[trans_coupon_item.duplicated()==False]\n",
        "summary(trans_coupon_item)"
      ],
      "execution_count": 28,
      "outputs": [
        {
          "output_type": "stream",
          "text": [
            "Dataset Shape: (589074, 17)\n"
          ],
          "name": "stdout"
        },
        {
          "output_type": "execute_result",
          "data": {
            "text/html": [
              "<div>\n",
              "<style scoped>\n",
              "    .dataframe tbody tr th:only-of-type {\n",
              "        vertical-align: middle;\n",
              "    }\n",
              "\n",
              "    .dataframe tbody tr th {\n",
              "        vertical-align: top;\n",
              "    }\n",
              "\n",
              "    .dataframe thead th {\n",
              "        text-align: right;\n",
              "    }\n",
              "</style>\n",
              "<table border=\"1\" class=\"dataframe\">\n",
              "  <thead>\n",
              "    <tr style=\"text-align: right;\">\n",
              "      <th></th>\n",
              "      <th>Name</th>\n",
              "      <th>dtypes</th>\n",
              "      <th>Missing</th>\n",
              "      <th>Uniques</th>\n",
              "    </tr>\n",
              "  </thead>\n",
              "  <tbody>\n",
              "    <tr>\n",
              "      <th>0</th>\n",
              "      <td>date</td>\n",
              "      <td>datetime64[ns]</td>\n",
              "      <td>0</td>\n",
              "      <td>176</td>\n",
              "    </tr>\n",
              "    <tr>\n",
              "      <th>1</th>\n",
              "      <td>customer_id</td>\n",
              "      <td>int64</td>\n",
              "      <td>0</td>\n",
              "      <td>1579</td>\n",
              "    </tr>\n",
              "    <tr>\n",
              "      <th>2</th>\n",
              "      <td>item_id</td>\n",
              "      <td>int64</td>\n",
              "      <td>0</td>\n",
              "      <td>38028</td>\n",
              "    </tr>\n",
              "    <tr>\n",
              "      <th>3</th>\n",
              "      <td>quantity</td>\n",
              "      <td>int64</td>\n",
              "      <td>0</td>\n",
              "      <td>2740</td>\n",
              "    </tr>\n",
              "    <tr>\n",
              "      <th>4</th>\n",
              "      <td>selling_price</td>\n",
              "      <td>float64</td>\n",
              "      <td>0</td>\n",
              "      <td>2877</td>\n",
              "    </tr>\n",
              "    <tr>\n",
              "      <th>5</th>\n",
              "      <td>other_discount</td>\n",
              "      <td>float64</td>\n",
              "      <td>1</td>\n",
              "      <td>883</td>\n",
              "    </tr>\n",
              "    <tr>\n",
              "      <th>6</th>\n",
              "      <td>coupon_discount</td>\n",
              "      <td>float64</td>\n",
              "      <td>1</td>\n",
              "      <td>110</td>\n",
              "    </tr>\n",
              "    <tr>\n",
              "      <th>7</th>\n",
              "      <td>day</td>\n",
              "      <td>category</td>\n",
              "      <td>0</td>\n",
              "      <td>31</td>\n",
              "    </tr>\n",
              "    <tr>\n",
              "      <th>8</th>\n",
              "      <td>month</td>\n",
              "      <td>category</td>\n",
              "      <td>0</td>\n",
              "      <td>6</td>\n",
              "    </tr>\n",
              "    <tr>\n",
              "      <th>9</th>\n",
              "      <td>year</td>\n",
              "      <td>category</td>\n",
              "      <td>0</td>\n",
              "      <td>26</td>\n",
              "    </tr>\n",
              "    <tr>\n",
              "      <th>10</th>\n",
              "      <td>marked_price</td>\n",
              "      <td>float64</td>\n",
              "      <td>1</td>\n",
              "      <td>5081</td>\n",
              "    </tr>\n",
              "    <tr>\n",
              "      <th>11</th>\n",
              "      <td>disc_percent</td>\n",
              "      <td>float64</td>\n",
              "      <td>1</td>\n",
              "      <td>10304</td>\n",
              "    </tr>\n",
              "    <tr>\n",
              "      <th>12</th>\n",
              "      <td>price_per_quan</td>\n",
              "      <td>float64</td>\n",
              "      <td>1</td>\n",
              "      <td>7078</td>\n",
              "    </tr>\n",
              "    <tr>\n",
              "      <th>13</th>\n",
              "      <td>coupon_id</td>\n",
              "      <td>float64</td>\n",
              "      <td>124366</td>\n",
              "      <td>1004</td>\n",
              "    </tr>\n",
              "    <tr>\n",
              "      <th>14</th>\n",
              "      <td>brand</td>\n",
              "      <td>category</td>\n",
              "      <td>124366</td>\n",
              "      <td>1587</td>\n",
              "    </tr>\n",
              "    <tr>\n",
              "      <th>15</th>\n",
              "      <td>brand_type</td>\n",
              "      <td>category</td>\n",
              "      <td>124366</td>\n",
              "      <td>2</td>\n",
              "    </tr>\n",
              "    <tr>\n",
              "      <th>16</th>\n",
              "      <td>category</td>\n",
              "      <td>category</td>\n",
              "      <td>124366</td>\n",
              "      <td>16</td>\n",
              "    </tr>\n",
              "  </tbody>\n",
              "</table>\n",
              "</div>"
            ],
            "text/plain": [
              "               Name          dtypes  Missing  Uniques\n",
              "0              date  datetime64[ns]        0      176\n",
              "1       customer_id           int64        0     1579\n",
              "2           item_id           int64        0    38028\n",
              "3          quantity           int64        0     2740\n",
              "4     selling_price         float64        0     2877\n",
              "5    other_discount         float64        1      883\n",
              "6   coupon_discount         float64        1      110\n",
              "7               day        category        0       31\n",
              "8             month        category        0        6\n",
              "9              year        category        0       26\n",
              "10     marked_price         float64        1     5081\n",
              "11     disc_percent         float64        1    10304\n",
              "12   price_per_quan         float64        1     7078\n",
              "13        coupon_id         float64   124366     1004\n",
              "14            brand        category   124366     1587\n",
              "15       brand_type        category   124366        2\n",
              "16         category        category   124366       16"
            ]
          },
          "metadata": {
            "tags": []
          },
          "execution_count": 28
        }
      ]
    },
    {
      "cell_type": "code",
      "metadata": {
        "id": "DNymeiUW0ZkZ",
        "outputId": "ed988e86-9b05-4606-85ff-2b5f7ecc86b9",
        "colab": {
          "base_uri": "https://localhost:8080/",
          "height": 72
        }
      },
      "source": [
        "full.columns"
      ],
      "execution_count": 31,
      "outputs": [
        {
          "output_type": "execute_result",
          "data": {
            "text/plain": [
              "Index(['id', 'campaign_id', 'coupon_id', 'customer_id', 'redemption_status',\n",
              "       'is_train', 'campaign_type', 'start_date', 'end_date'],\n",
              "      dtype='object')"
            ]
          },
          "metadata": {
            "tags": []
          },
          "execution_count": 31
        }
      ]
    },
    {
      "cell_type": "code",
      "metadata": {
        "id": "YZT1Cwwo0ZXo"
      },
      "source": [
        "#changing start and end date to datetime and retrieving the number of days, week, and months a campaign lasts\n",
        "full['start_date']=pd.to_datetime(full['start_date'], format='%d/%m/%y')\n",
        "full['end_date']=pd.to_datetime(full['end_date'], format='%d/%m/%y')"
      ],
      "execution_count": 32,
      "outputs": []
    },
    {
      "cell_type": "code",
      "metadata": {
        "id": "50g_mIub5Ykz"
      },
      "source": [
        "full['diff_d']=(full['end_date']-full['start_date'])/np.timedelta64(1,'D')\n",
        "full['diff_m']=(full['end_date']-full['start_date'])/np.timedelta64(1,'M')\n",
        "full['diff_w']=(full['end_date']-full['start_date'])/np.timedelta64(1,'W')"
      ],
      "execution_count": 33,
      "outputs": []
    },
    {
      "cell_type": "code",
      "metadata": {
        "id": "t0mzxdQHcnfv",
        "outputId": "c3ea458e-1b83-4fca-d14f-71a1456f5d09",
        "colab": {
          "base_uri": "https://localhost:8080/",
          "height": 276
        }
      },
      "source": [
        "summary(customer_demo)"
      ],
      "execution_count": 34,
      "outputs": [
        {
          "output_type": "stream",
          "text": [
            "Dataset Shape: (760, 7)\n"
          ],
          "name": "stdout"
        },
        {
          "output_type": "execute_result",
          "data": {
            "text/html": [
              "<div>\n",
              "<style scoped>\n",
              "    .dataframe tbody tr th:only-of-type {\n",
              "        vertical-align: middle;\n",
              "    }\n",
              "\n",
              "    .dataframe tbody tr th {\n",
              "        vertical-align: top;\n",
              "    }\n",
              "\n",
              "    .dataframe thead th {\n",
              "        text-align: right;\n",
              "    }\n",
              "</style>\n",
              "<table border=\"1\" class=\"dataframe\">\n",
              "  <thead>\n",
              "    <tr style=\"text-align: right;\">\n",
              "      <th></th>\n",
              "      <th>Name</th>\n",
              "      <th>dtypes</th>\n",
              "      <th>Missing</th>\n",
              "      <th>Uniques</th>\n",
              "    </tr>\n",
              "  </thead>\n",
              "  <tbody>\n",
              "    <tr>\n",
              "      <th>0</th>\n",
              "      <td>customer_id</td>\n",
              "      <td>int64</td>\n",
              "      <td>0</td>\n",
              "      <td>760</td>\n",
              "    </tr>\n",
              "    <tr>\n",
              "      <th>1</th>\n",
              "      <td>age_range</td>\n",
              "      <td>object</td>\n",
              "      <td>0</td>\n",
              "      <td>6</td>\n",
              "    </tr>\n",
              "    <tr>\n",
              "      <th>2</th>\n",
              "      <td>marital_status</td>\n",
              "      <td>object</td>\n",
              "      <td>329</td>\n",
              "      <td>2</td>\n",
              "    </tr>\n",
              "    <tr>\n",
              "      <th>3</th>\n",
              "      <td>rented</td>\n",
              "      <td>int64</td>\n",
              "      <td>0</td>\n",
              "      <td>2</td>\n",
              "    </tr>\n",
              "    <tr>\n",
              "      <th>4</th>\n",
              "      <td>family_size</td>\n",
              "      <td>object</td>\n",
              "      <td>0</td>\n",
              "      <td>5</td>\n",
              "    </tr>\n",
              "    <tr>\n",
              "      <th>5</th>\n",
              "      <td>no_of_children</td>\n",
              "      <td>object</td>\n",
              "      <td>538</td>\n",
              "      <td>3</td>\n",
              "    </tr>\n",
              "    <tr>\n",
              "      <th>6</th>\n",
              "      <td>income_bracket</td>\n",
              "      <td>int64</td>\n",
              "      <td>0</td>\n",
              "      <td>12</td>\n",
              "    </tr>\n",
              "  </tbody>\n",
              "</table>\n",
              "</div>"
            ],
            "text/plain": [
              "             Name  dtypes  Missing  Uniques\n",
              "0     customer_id   int64        0      760\n",
              "1       age_range  object        0        6\n",
              "2  marital_status  object      329        2\n",
              "3          rented   int64        0        2\n",
              "4     family_size  object        0        5\n",
              "5  no_of_children  object      538        3\n",
              "6  income_bracket   int64        0       12"
            ]
          },
          "metadata": {
            "tags": []
          },
          "execution_count": 34
        }
      ]
    },
    {
      "cell_type": "markdown",
      "metadata": {
        "id": "-tHAd0I9cnf4"
      },
      "source": [
        "Since the marital status and number of children have many null values, we drop these columns"
      ]
    },
    {
      "cell_type": "code",
      "metadata": {
        "id": "TWwyNLTDcnf5",
        "outputId": "87bb8a45-9ec6-4030-c5c3-de37c34a4293",
        "colab": {
          "base_uri": "https://localhost:8080/",
          "height": 198
        }
      },
      "source": [
        "customer_demo=customer_demo.drop(['marital_status', 'no_of_children'], axis=1)\n",
        "customer_demo.head()"
      ],
      "execution_count": 35,
      "outputs": [
        {
          "output_type": "execute_result",
          "data": {
            "text/html": [
              "<div>\n",
              "<style scoped>\n",
              "    .dataframe tbody tr th:only-of-type {\n",
              "        vertical-align: middle;\n",
              "    }\n",
              "\n",
              "    .dataframe tbody tr th {\n",
              "        vertical-align: top;\n",
              "    }\n",
              "\n",
              "    .dataframe thead th {\n",
              "        text-align: right;\n",
              "    }\n",
              "</style>\n",
              "<table border=\"1\" class=\"dataframe\">\n",
              "  <thead>\n",
              "    <tr style=\"text-align: right;\">\n",
              "      <th></th>\n",
              "      <th>customer_id</th>\n",
              "      <th>age_range</th>\n",
              "      <th>rented</th>\n",
              "      <th>family_size</th>\n",
              "      <th>income_bracket</th>\n",
              "    </tr>\n",
              "  </thead>\n",
              "  <tbody>\n",
              "    <tr>\n",
              "      <th>0</th>\n",
              "      <td>1</td>\n",
              "      <td>70+</td>\n",
              "      <td>0</td>\n",
              "      <td>2</td>\n",
              "      <td>4</td>\n",
              "    </tr>\n",
              "    <tr>\n",
              "      <th>1</th>\n",
              "      <td>6</td>\n",
              "      <td>46-55</td>\n",
              "      <td>0</td>\n",
              "      <td>2</td>\n",
              "      <td>5</td>\n",
              "    </tr>\n",
              "    <tr>\n",
              "      <th>2</th>\n",
              "      <td>7</td>\n",
              "      <td>26-35</td>\n",
              "      <td>0</td>\n",
              "      <td>3</td>\n",
              "      <td>3</td>\n",
              "    </tr>\n",
              "    <tr>\n",
              "      <th>3</th>\n",
              "      <td>8</td>\n",
              "      <td>26-35</td>\n",
              "      <td>0</td>\n",
              "      <td>4</td>\n",
              "      <td>6</td>\n",
              "    </tr>\n",
              "    <tr>\n",
              "      <th>4</th>\n",
              "      <td>10</td>\n",
              "      <td>46-55</td>\n",
              "      <td>0</td>\n",
              "      <td>1</td>\n",
              "      <td>5</td>\n",
              "    </tr>\n",
              "  </tbody>\n",
              "</table>\n",
              "</div>"
            ],
            "text/plain": [
              "   customer_id age_range  rented family_size  income_bracket\n",
              "0            1       70+       0           2               4\n",
              "1            6     46-55       0           2               5\n",
              "2            7     26-35       0           3               3\n",
              "3            8     26-35       0           4               6\n",
              "4           10     46-55       0           1               5"
            ]
          },
          "metadata": {
            "tags": []
          },
          "execution_count": 35
        }
      ]
    },
    {
      "cell_type": "code",
      "metadata": {
        "id": "_8TpAJ-mcnf-",
        "outputId": "467c5966-3d50-4afe-eded-0e8521d75cbf",
        "colab": {
          "base_uri": "https://localhost:8080/",
          "height": 305
        }
      },
      "source": [
        "#merging full and customer demo dataset\n",
        "full=pd.merge(full, customer_demo, on=['customer_id'], how='left')\n",
        "full.head()"
      ],
      "execution_count": 36,
      "outputs": [
        {
          "output_type": "execute_result",
          "data": {
            "text/html": [
              "<div>\n",
              "<style scoped>\n",
              "    .dataframe tbody tr th:only-of-type {\n",
              "        vertical-align: middle;\n",
              "    }\n",
              "\n",
              "    .dataframe tbody tr th {\n",
              "        vertical-align: top;\n",
              "    }\n",
              "\n",
              "    .dataframe thead th {\n",
              "        text-align: right;\n",
              "    }\n",
              "</style>\n",
              "<table border=\"1\" class=\"dataframe\">\n",
              "  <thead>\n",
              "    <tr style=\"text-align: right;\">\n",
              "      <th></th>\n",
              "      <th>id</th>\n",
              "      <th>campaign_id</th>\n",
              "      <th>coupon_id</th>\n",
              "      <th>customer_id</th>\n",
              "      <th>redemption_status</th>\n",
              "      <th>is_train</th>\n",
              "      <th>campaign_type</th>\n",
              "      <th>start_date</th>\n",
              "      <th>end_date</th>\n",
              "      <th>diff_d</th>\n",
              "      <th>diff_m</th>\n",
              "      <th>diff_w</th>\n",
              "      <th>age_range</th>\n",
              "      <th>rented</th>\n",
              "      <th>family_size</th>\n",
              "      <th>income_bracket</th>\n",
              "    </tr>\n",
              "  </thead>\n",
              "  <tbody>\n",
              "    <tr>\n",
              "      <th>0</th>\n",
              "      <td>1</td>\n",
              "      <td>13</td>\n",
              "      <td>27</td>\n",
              "      <td>1053</td>\n",
              "      <td>0</td>\n",
              "      <td>1</td>\n",
              "      <td>X</td>\n",
              "      <td>2013-05-19</td>\n",
              "      <td>2013-07-05</td>\n",
              "      <td>47.0</td>\n",
              "      <td>1.544180</td>\n",
              "      <td>6.714286</td>\n",
              "      <td>46-55</td>\n",
              "      <td>0.0</td>\n",
              "      <td>1</td>\n",
              "      <td>5.0</td>\n",
              "    </tr>\n",
              "    <tr>\n",
              "      <th>1</th>\n",
              "      <td>2</td>\n",
              "      <td>13</td>\n",
              "      <td>116</td>\n",
              "      <td>48</td>\n",
              "      <td>0</td>\n",
              "      <td>1</td>\n",
              "      <td>X</td>\n",
              "      <td>2013-05-19</td>\n",
              "      <td>2013-07-05</td>\n",
              "      <td>47.0</td>\n",
              "      <td>1.544180</td>\n",
              "      <td>6.714286</td>\n",
              "      <td>36-45</td>\n",
              "      <td>0.0</td>\n",
              "      <td>2</td>\n",
              "      <td>3.0</td>\n",
              "    </tr>\n",
              "    <tr>\n",
              "      <th>2</th>\n",
              "      <td>6</td>\n",
              "      <td>9</td>\n",
              "      <td>635</td>\n",
              "      <td>205</td>\n",
              "      <td>0</td>\n",
              "      <td>1</td>\n",
              "      <td>Y</td>\n",
              "      <td>2013-03-11</td>\n",
              "      <td>2013-04-12</td>\n",
              "      <td>32.0</td>\n",
              "      <td>1.051356</td>\n",
              "      <td>4.571429</td>\n",
              "      <td>46-55</td>\n",
              "      <td>0.0</td>\n",
              "      <td>2</td>\n",
              "      <td>7.0</td>\n",
              "    </tr>\n",
              "    <tr>\n",
              "      <th>3</th>\n",
              "      <td>7</td>\n",
              "      <td>13</td>\n",
              "      <td>644</td>\n",
              "      <td>1050</td>\n",
              "      <td>0</td>\n",
              "      <td>1</td>\n",
              "      <td>X</td>\n",
              "      <td>2013-05-19</td>\n",
              "      <td>2013-07-05</td>\n",
              "      <td>47.0</td>\n",
              "      <td>1.544180</td>\n",
              "      <td>6.714286</td>\n",
              "      <td>NaN</td>\n",
              "      <td>NaN</td>\n",
              "      <td>NaN</td>\n",
              "      <td>NaN</td>\n",
              "    </tr>\n",
              "    <tr>\n",
              "      <th>4</th>\n",
              "      <td>9</td>\n",
              "      <td>8</td>\n",
              "      <td>1017</td>\n",
              "      <td>1489</td>\n",
              "      <td>0</td>\n",
              "      <td>1</td>\n",
              "      <td>X</td>\n",
              "      <td>2013-02-16</td>\n",
              "      <td>2013-04-05</td>\n",
              "      <td>48.0</td>\n",
              "      <td>1.577034</td>\n",
              "      <td>6.857143</td>\n",
              "      <td>46-55</td>\n",
              "      <td>0.0</td>\n",
              "      <td>2</td>\n",
              "      <td>3.0</td>\n",
              "    </tr>\n",
              "  </tbody>\n",
              "</table>\n",
              "</div>"
            ],
            "text/plain": [
              "   id  campaign_id  coupon_id  ...  rented  family_size  income_bracket\n",
              "0   1           13         27  ...     0.0            1             5.0\n",
              "1   2           13        116  ...     0.0            2             3.0\n",
              "2   6            9        635  ...     0.0            2             7.0\n",
              "3   7           13        644  ...     NaN          NaN             NaN\n",
              "4   9            8       1017  ...     0.0            2             3.0\n",
              "\n",
              "[5 rows x 16 columns]"
            ]
          },
          "metadata": {
            "tags": []
          },
          "execution_count": 36
        }
      ]
    },
    {
      "cell_type": "code",
      "metadata": {
        "id": "84oPBm5VcngC",
        "outputId": "74f3e9e1-9cb7-41d7-8757-787ce1ed206f",
        "colab": {
          "base_uri": "https://localhost:8080/",
          "height": 78
        }
      },
      "source": [
        "cust_detail=full[['customer_id', 'age_range', 'rented', 'family_size', 'income_bracket']].drop_duplicates()\n",
        "cus_mode=cust_detail.drop(['customer_id'], axis=1).mode(axis=0)\n",
        "cus_mode"
      ],
      "execution_count": 37,
      "outputs": [
        {
          "output_type": "execute_result",
          "data": {
            "text/html": [
              "<div>\n",
              "<style scoped>\n",
              "    .dataframe tbody tr th:only-of-type {\n",
              "        vertical-align: middle;\n",
              "    }\n",
              "\n",
              "    .dataframe tbody tr th {\n",
              "        vertical-align: top;\n",
              "    }\n",
              "\n",
              "    .dataframe thead th {\n",
              "        text-align: right;\n",
              "    }\n",
              "</style>\n",
              "<table border=\"1\" class=\"dataframe\">\n",
              "  <thead>\n",
              "    <tr style=\"text-align: right;\">\n",
              "      <th></th>\n",
              "      <th>age_range</th>\n",
              "      <th>rented</th>\n",
              "      <th>family_size</th>\n",
              "      <th>income_bracket</th>\n",
              "    </tr>\n",
              "  </thead>\n",
              "  <tbody>\n",
              "    <tr>\n",
              "      <th>0</th>\n",
              "      <td>46-55</td>\n",
              "      <td>0.0</td>\n",
              "      <td>2</td>\n",
              "      <td>5.0</td>\n",
              "    </tr>\n",
              "  </tbody>\n",
              "</table>\n",
              "</div>"
            ],
            "text/plain": [
              "  age_range  rented family_size  income_bracket\n",
              "0     46-55     0.0           2             5.0"
            ]
          },
          "metadata": {
            "tags": []
          },
          "execution_count": 37
        }
      ]
    },
    {
      "cell_type": "code",
      "metadata": {
        "id": "w6aceRMxcngG"
      },
      "source": [
        "cust_detail=cust_detail.fillna(cus_mode.iloc[0])\n"
      ],
      "execution_count": 38,
      "outputs": []
    },
    {
      "cell_type": "code",
      "metadata": {
        "id": "mIOzOq7_cngN"
      },
      "source": [
        "full.drop(['age_range', 'rented', 'family_size', 'income_bracket'], axis=1, inplace=True)\n",
        "full=pd.merge(full, cust_detail, on=['customer_id'], how='left')\n",
        "full['income_bracket']=full['income_bracket'].apply(lambda x: str(x))\n",
        "cols=['age_range', 'family_size', 'income_bracket']\n"
      ],
      "execution_count": 39,
      "outputs": []
    },
    {
      "cell_type": "code",
      "metadata": {
        "id": "t7lsriFTcngU"
      },
      "source": [
        "from sklearn.preprocessing import LabelEncoder"
      ],
      "execution_count": 40,
      "outputs": []
    },
    {
      "cell_type": "code",
      "metadata": {
        "id": "CYksc4lhcngY"
      },
      "source": [
        "#encoding age range, rented, family size and income bracket\n",
        "for i in cols:\n",
        "    lbl = LabelEncoder()\n",
        "    lbl.fit(list(full[i].values.astype('str')))\n",
        "    full[i] = lbl.transform(list(full[i].values.astype('str')))"
      ],
      "execution_count": 41,
      "outputs": []
    },
    {
      "cell_type": "code",
      "metadata": {
        "id": "ZDC3zHXpcnge",
        "outputId": "1930b4c4-63e3-4989-9b61-b7da08814342",
        "colab": {
          "base_uri": "https://localhost:8080/",
          "height": 305
        }
      },
      "source": [
        "full.head()"
      ],
      "execution_count": 42,
      "outputs": [
        {
          "output_type": "execute_result",
          "data": {
            "text/html": [
              "<div>\n",
              "<style scoped>\n",
              "    .dataframe tbody tr th:only-of-type {\n",
              "        vertical-align: middle;\n",
              "    }\n",
              "\n",
              "    .dataframe tbody tr th {\n",
              "        vertical-align: top;\n",
              "    }\n",
              "\n",
              "    .dataframe thead th {\n",
              "        text-align: right;\n",
              "    }\n",
              "</style>\n",
              "<table border=\"1\" class=\"dataframe\">\n",
              "  <thead>\n",
              "    <tr style=\"text-align: right;\">\n",
              "      <th></th>\n",
              "      <th>id</th>\n",
              "      <th>campaign_id</th>\n",
              "      <th>coupon_id</th>\n",
              "      <th>customer_id</th>\n",
              "      <th>redemption_status</th>\n",
              "      <th>is_train</th>\n",
              "      <th>campaign_type</th>\n",
              "      <th>start_date</th>\n",
              "      <th>end_date</th>\n",
              "      <th>diff_d</th>\n",
              "      <th>diff_m</th>\n",
              "      <th>diff_w</th>\n",
              "      <th>age_range</th>\n",
              "      <th>rented</th>\n",
              "      <th>family_size</th>\n",
              "      <th>income_bracket</th>\n",
              "    </tr>\n",
              "  </thead>\n",
              "  <tbody>\n",
              "    <tr>\n",
              "      <th>0</th>\n",
              "      <td>1</td>\n",
              "      <td>13</td>\n",
              "      <td>27</td>\n",
              "      <td>1053</td>\n",
              "      <td>0</td>\n",
              "      <td>1</td>\n",
              "      <td>X</td>\n",
              "      <td>2013-05-19</td>\n",
              "      <td>2013-07-05</td>\n",
              "      <td>47.0</td>\n",
              "      <td>1.544180</td>\n",
              "      <td>6.714286</td>\n",
              "      <td>3</td>\n",
              "      <td>0.0</td>\n",
              "      <td>0</td>\n",
              "      <td>7</td>\n",
              "    </tr>\n",
              "    <tr>\n",
              "      <th>1</th>\n",
              "      <td>2</td>\n",
              "      <td>13</td>\n",
              "      <td>116</td>\n",
              "      <td>48</td>\n",
              "      <td>0</td>\n",
              "      <td>1</td>\n",
              "      <td>X</td>\n",
              "      <td>2013-05-19</td>\n",
              "      <td>2013-07-05</td>\n",
              "      <td>47.0</td>\n",
              "      <td>1.544180</td>\n",
              "      <td>6.714286</td>\n",
              "      <td>2</td>\n",
              "      <td>0.0</td>\n",
              "      <td>1</td>\n",
              "      <td>5</td>\n",
              "    </tr>\n",
              "    <tr>\n",
              "      <th>2</th>\n",
              "      <td>6</td>\n",
              "      <td>9</td>\n",
              "      <td>635</td>\n",
              "      <td>205</td>\n",
              "      <td>0</td>\n",
              "      <td>1</td>\n",
              "      <td>Y</td>\n",
              "      <td>2013-03-11</td>\n",
              "      <td>2013-04-12</td>\n",
              "      <td>32.0</td>\n",
              "      <td>1.051356</td>\n",
              "      <td>4.571429</td>\n",
              "      <td>3</td>\n",
              "      <td>0.0</td>\n",
              "      <td>1</td>\n",
              "      <td>9</td>\n",
              "    </tr>\n",
              "    <tr>\n",
              "      <th>3</th>\n",
              "      <td>7</td>\n",
              "      <td>13</td>\n",
              "      <td>644</td>\n",
              "      <td>1050</td>\n",
              "      <td>0</td>\n",
              "      <td>1</td>\n",
              "      <td>X</td>\n",
              "      <td>2013-05-19</td>\n",
              "      <td>2013-07-05</td>\n",
              "      <td>47.0</td>\n",
              "      <td>1.544180</td>\n",
              "      <td>6.714286</td>\n",
              "      <td>3</td>\n",
              "      <td>0.0</td>\n",
              "      <td>1</td>\n",
              "      <td>7</td>\n",
              "    </tr>\n",
              "    <tr>\n",
              "      <th>4</th>\n",
              "      <td>9</td>\n",
              "      <td>8</td>\n",
              "      <td>1017</td>\n",
              "      <td>1489</td>\n",
              "      <td>0</td>\n",
              "      <td>1</td>\n",
              "      <td>X</td>\n",
              "      <td>2013-02-16</td>\n",
              "      <td>2013-04-05</td>\n",
              "      <td>48.0</td>\n",
              "      <td>1.577034</td>\n",
              "      <td>6.857143</td>\n",
              "      <td>3</td>\n",
              "      <td>0.0</td>\n",
              "      <td>1</td>\n",
              "      <td>5</td>\n",
              "    </tr>\n",
              "  </tbody>\n",
              "</table>\n",
              "</div>"
            ],
            "text/plain": [
              "   id  campaign_id  coupon_id  ...  rented  family_size  income_bracket\n",
              "0   1           13         27  ...     0.0            0               7\n",
              "1   2           13        116  ...     0.0            1               5\n",
              "2   6            9        635  ...     0.0            1               9\n",
              "3   7           13        644  ...     0.0            1               7\n",
              "4   9            8       1017  ...     0.0            1               5\n",
              "\n",
              "[5 rows x 16 columns]"
            ]
          },
          "metadata": {
            "tags": []
          },
          "execution_count": 42
        }
      ]
    },
    {
      "cell_type": "code",
      "metadata": {
        "id": "DZwsnL176Iim",
        "outputId": "ff7b9404-79b0-43a9-bae0-d0ee2d0e0b91",
        "colab": {
          "base_uri": "https://localhost:8080/",
          "height": 199
        }
      },
      "source": [
        "full.columns, trans_coupon_item.columns"
      ],
      "execution_count": 43,
      "outputs": [
        {
          "output_type": "execute_result",
          "data": {
            "text/plain": [
              "(Index(['id', 'campaign_id', 'coupon_id', 'customer_id', 'redemption_status',\n",
              "        'is_train', 'campaign_type', 'start_date', 'end_date', 'diff_d',\n",
              "        'diff_m', 'diff_w', 'age_range', 'rented', 'family_size',\n",
              "        'income_bracket'],\n",
              "       dtype='object'),\n",
              " Index(['date', 'customer_id', 'item_id', 'quantity', 'selling_price',\n",
              "        'other_discount', 'coupon_discount', 'day', 'month', 'year',\n",
              "        'marked_price', 'disc_percent', 'price_per_quan', 'coupon_id', 'brand',\n",
              "        'brand_type', 'category'],\n",
              "       dtype='object'))"
            ]
          },
          "metadata": {
            "tags": []
          },
          "execution_count": 43
        }
      ]
    },
    {
      "cell_type": "code",
      "metadata": {
        "id": "u0h_j6vG6IAx",
        "outputId": "b5f3962f-fe82-46b9-8b0a-abf3e806ae12",
        "colab": {
          "base_uri": "https://localhost:8080/",
          "height": 305
        }
      },
      "source": [
        "#creating the full dataframe\n",
        "df=full.merge(trans_coupon_item, on=['customer_id','coupon_id'],how='left')\n",
        "df.head()"
      ],
      "execution_count": 44,
      "outputs": [
        {
          "output_type": "execute_result",
          "data": {
            "text/html": [
              "<div>\n",
              "<style scoped>\n",
              "    .dataframe tbody tr th:only-of-type {\n",
              "        vertical-align: middle;\n",
              "    }\n",
              "\n",
              "    .dataframe tbody tr th {\n",
              "        vertical-align: top;\n",
              "    }\n",
              "\n",
              "    .dataframe thead th {\n",
              "        text-align: right;\n",
              "    }\n",
              "</style>\n",
              "<table border=\"1\" class=\"dataframe\">\n",
              "  <thead>\n",
              "    <tr style=\"text-align: right;\">\n",
              "      <th></th>\n",
              "      <th>id</th>\n",
              "      <th>campaign_id</th>\n",
              "      <th>coupon_id</th>\n",
              "      <th>customer_id</th>\n",
              "      <th>redemption_status</th>\n",
              "      <th>is_train</th>\n",
              "      <th>campaign_type</th>\n",
              "      <th>start_date</th>\n",
              "      <th>end_date</th>\n",
              "      <th>diff_d</th>\n",
              "      <th>diff_m</th>\n",
              "      <th>diff_w</th>\n",
              "      <th>age_range</th>\n",
              "      <th>rented</th>\n",
              "      <th>family_size</th>\n",
              "      <th>income_bracket</th>\n",
              "      <th>date</th>\n",
              "      <th>item_id</th>\n",
              "      <th>quantity</th>\n",
              "      <th>selling_price</th>\n",
              "      <th>other_discount</th>\n",
              "      <th>coupon_discount</th>\n",
              "      <th>day</th>\n",
              "      <th>month</th>\n",
              "      <th>year</th>\n",
              "      <th>marked_price</th>\n",
              "      <th>disc_percent</th>\n",
              "      <th>price_per_quan</th>\n",
              "      <th>brand</th>\n",
              "      <th>brand_type</th>\n",
              "      <th>category</th>\n",
              "    </tr>\n",
              "  </thead>\n",
              "  <tbody>\n",
              "    <tr>\n",
              "      <th>0</th>\n",
              "      <td>1</td>\n",
              "      <td>13</td>\n",
              "      <td>27</td>\n",
              "      <td>1053</td>\n",
              "      <td>0</td>\n",
              "      <td>1</td>\n",
              "      <td>X</td>\n",
              "      <td>2013-05-19</td>\n",
              "      <td>2013-07-05</td>\n",
              "      <td>47.0</td>\n",
              "      <td>1.544180</td>\n",
              "      <td>6.714286</td>\n",
              "      <td>3</td>\n",
              "      <td>0.0</td>\n",
              "      <td>0</td>\n",
              "      <td>7</td>\n",
              "      <td>NaT</td>\n",
              "      <td>NaN</td>\n",
              "      <td>NaN</td>\n",
              "      <td>NaN</td>\n",
              "      <td>NaN</td>\n",
              "      <td>NaN</td>\n",
              "      <td>NaN</td>\n",
              "      <td>NaN</td>\n",
              "      <td>NaN</td>\n",
              "      <td>NaN</td>\n",
              "      <td>NaN</td>\n",
              "      <td>NaN</td>\n",
              "      <td>NaN</td>\n",
              "      <td>NaN</td>\n",
              "      <td>NaN</td>\n",
              "    </tr>\n",
              "    <tr>\n",
              "      <th>1</th>\n",
              "      <td>2</td>\n",
              "      <td>13</td>\n",
              "      <td>116</td>\n",
              "      <td>48</td>\n",
              "      <td>0</td>\n",
              "      <td>1</td>\n",
              "      <td>X</td>\n",
              "      <td>2013-05-19</td>\n",
              "      <td>2013-07-05</td>\n",
              "      <td>47.0</td>\n",
              "      <td>1.544180</td>\n",
              "      <td>6.714286</td>\n",
              "      <td>2</td>\n",
              "      <td>0.0</td>\n",
              "      <td>1</td>\n",
              "      <td>5</td>\n",
              "      <td>NaT</td>\n",
              "      <td>NaN</td>\n",
              "      <td>NaN</td>\n",
              "      <td>NaN</td>\n",
              "      <td>NaN</td>\n",
              "      <td>NaN</td>\n",
              "      <td>NaN</td>\n",
              "      <td>NaN</td>\n",
              "      <td>NaN</td>\n",
              "      <td>NaN</td>\n",
              "      <td>NaN</td>\n",
              "      <td>NaN</td>\n",
              "      <td>NaN</td>\n",
              "      <td>NaN</td>\n",
              "      <td>NaN</td>\n",
              "    </tr>\n",
              "    <tr>\n",
              "      <th>2</th>\n",
              "      <td>6</td>\n",
              "      <td>9</td>\n",
              "      <td>635</td>\n",
              "      <td>205</td>\n",
              "      <td>0</td>\n",
              "      <td>1</td>\n",
              "      <td>Y</td>\n",
              "      <td>2013-03-11</td>\n",
              "      <td>2013-04-12</td>\n",
              "      <td>32.0</td>\n",
              "      <td>1.051356</td>\n",
              "      <td>4.571429</td>\n",
              "      <td>3</td>\n",
              "      <td>0.0</td>\n",
              "      <td>1</td>\n",
              "      <td>9</td>\n",
              "      <td>NaT</td>\n",
              "      <td>NaN</td>\n",
              "      <td>NaN</td>\n",
              "      <td>NaN</td>\n",
              "      <td>NaN</td>\n",
              "      <td>NaN</td>\n",
              "      <td>NaN</td>\n",
              "      <td>NaN</td>\n",
              "      <td>NaN</td>\n",
              "      <td>NaN</td>\n",
              "      <td>NaN</td>\n",
              "      <td>NaN</td>\n",
              "      <td>NaN</td>\n",
              "      <td>NaN</td>\n",
              "      <td>NaN</td>\n",
              "    </tr>\n",
              "    <tr>\n",
              "      <th>3</th>\n",
              "      <td>7</td>\n",
              "      <td>13</td>\n",
              "      <td>644</td>\n",
              "      <td>1050</td>\n",
              "      <td>0</td>\n",
              "      <td>1</td>\n",
              "      <td>X</td>\n",
              "      <td>2013-05-19</td>\n",
              "      <td>2013-07-05</td>\n",
              "      <td>47.0</td>\n",
              "      <td>1.544180</td>\n",
              "      <td>6.714286</td>\n",
              "      <td>3</td>\n",
              "      <td>0.0</td>\n",
              "      <td>1</td>\n",
              "      <td>7</td>\n",
              "      <td>NaT</td>\n",
              "      <td>NaN</td>\n",
              "      <td>NaN</td>\n",
              "      <td>NaN</td>\n",
              "      <td>NaN</td>\n",
              "      <td>NaN</td>\n",
              "      <td>NaN</td>\n",
              "      <td>NaN</td>\n",
              "      <td>NaN</td>\n",
              "      <td>NaN</td>\n",
              "      <td>NaN</td>\n",
              "      <td>NaN</td>\n",
              "      <td>NaN</td>\n",
              "      <td>NaN</td>\n",
              "      <td>NaN</td>\n",
              "    </tr>\n",
              "    <tr>\n",
              "      <th>4</th>\n",
              "      <td>9</td>\n",
              "      <td>8</td>\n",
              "      <td>1017</td>\n",
              "      <td>1489</td>\n",
              "      <td>0</td>\n",
              "      <td>1</td>\n",
              "      <td>X</td>\n",
              "      <td>2013-02-16</td>\n",
              "      <td>2013-04-05</td>\n",
              "      <td>48.0</td>\n",
              "      <td>1.577034</td>\n",
              "      <td>6.857143</td>\n",
              "      <td>3</td>\n",
              "      <td>0.0</td>\n",
              "      <td>1</td>\n",
              "      <td>5</td>\n",
              "      <td>NaT</td>\n",
              "      <td>NaN</td>\n",
              "      <td>NaN</td>\n",
              "      <td>NaN</td>\n",
              "      <td>NaN</td>\n",
              "      <td>NaN</td>\n",
              "      <td>NaN</td>\n",
              "      <td>NaN</td>\n",
              "      <td>NaN</td>\n",
              "      <td>NaN</td>\n",
              "      <td>NaN</td>\n",
              "      <td>NaN</td>\n",
              "      <td>NaN</td>\n",
              "      <td>NaN</td>\n",
              "      <td>NaN</td>\n",
              "    </tr>\n",
              "  </tbody>\n",
              "</table>\n",
              "</div>"
            ],
            "text/plain": [
              "   id  campaign_id  coupon_id  ...  brand  brand_type  category\n",
              "0   1           13         27  ...    NaN         NaN       NaN\n",
              "1   2           13        116  ...    NaN         NaN       NaN\n",
              "2   6            9        635  ...    NaN         NaN       NaN\n",
              "3   7           13        644  ...    NaN         NaN       NaN\n",
              "4   9            8       1017  ...    NaN         NaN       NaN\n",
              "\n",
              "[5 rows x 31 columns]"
            ]
          },
          "metadata": {
            "tags": []
          },
          "execution_count": 44
        }
      ]
    },
    {
      "cell_type": "code",
      "metadata": {
        "id": "WIF7XeX16JSJ",
        "outputId": "7663a98c-9383-4cdb-8aab-3c38ea885731",
        "colab": {
          "base_uri": "https://localhost:8080/",
          "height": 305
        }
      },
      "source": [
        "df.tail()"
      ],
      "execution_count": 45,
      "outputs": [
        {
          "output_type": "execute_result",
          "data": {
            "text/html": [
              "<div>\n",
              "<style scoped>\n",
              "    .dataframe tbody tr th:only-of-type {\n",
              "        vertical-align: middle;\n",
              "    }\n",
              "\n",
              "    .dataframe tbody tr th {\n",
              "        vertical-align: top;\n",
              "    }\n",
              "\n",
              "    .dataframe thead th {\n",
              "        text-align: right;\n",
              "    }\n",
              "</style>\n",
              "<table border=\"1\" class=\"dataframe\">\n",
              "  <thead>\n",
              "    <tr style=\"text-align: right;\">\n",
              "      <th></th>\n",
              "      <th>id</th>\n",
              "      <th>campaign_id</th>\n",
              "      <th>coupon_id</th>\n",
              "      <th>customer_id</th>\n",
              "      <th>redemption_status</th>\n",
              "      <th>is_train</th>\n",
              "      <th>campaign_type</th>\n",
              "      <th>start_date</th>\n",
              "      <th>end_date</th>\n",
              "      <th>diff_d</th>\n",
              "      <th>diff_m</th>\n",
              "      <th>diff_w</th>\n",
              "      <th>age_range</th>\n",
              "      <th>rented</th>\n",
              "      <th>family_size</th>\n",
              "      <th>income_bracket</th>\n",
              "      <th>date</th>\n",
              "      <th>item_id</th>\n",
              "      <th>quantity</th>\n",
              "      <th>selling_price</th>\n",
              "      <th>other_discount</th>\n",
              "      <th>coupon_discount</th>\n",
              "      <th>day</th>\n",
              "      <th>month</th>\n",
              "      <th>year</th>\n",
              "      <th>marked_price</th>\n",
              "      <th>disc_percent</th>\n",
              "      <th>price_per_quan</th>\n",
              "      <th>brand</th>\n",
              "      <th>brand_type</th>\n",
              "      <th>category</th>\n",
              "    </tr>\n",
              "  </thead>\n",
              "  <tbody>\n",
              "    <tr>\n",
              "      <th>172575</th>\n",
              "      <td>128591</td>\n",
              "      <td>25</td>\n",
              "      <td>596</td>\n",
              "      <td>1336</td>\n",
              "      <td>-99</td>\n",
              "      <td>0</td>\n",
              "      <td>Y</td>\n",
              "      <td>2013-10-21</td>\n",
              "      <td>2013-11-22</td>\n",
              "      <td>32.0</td>\n",
              "      <td>1.051356</td>\n",
              "      <td>4.571429</td>\n",
              "      <td>2</td>\n",
              "      <td>0.0</td>\n",
              "      <td>4</td>\n",
              "      <td>11</td>\n",
              "      <td>2012-03-16</td>\n",
              "      <td>11376.0</td>\n",
              "      <td>1.0</td>\n",
              "      <td>89.05</td>\n",
              "      <td>-28.14</td>\n",
              "      <td>0.0</td>\n",
              "      <td>16</td>\n",
              "      <td>3</td>\n",
              "      <td>11</td>\n",
              "      <td>117.19</td>\n",
              "      <td>0.316002</td>\n",
              "      <td>117.19</td>\n",
              "      <td>487</td>\n",
              "      <td>Established</td>\n",
              "      <td>Grocery</td>\n",
              "    </tr>\n",
              "    <tr>\n",
              "      <th>172576</th>\n",
              "      <td>128591</td>\n",
              "      <td>25</td>\n",
              "      <td>596</td>\n",
              "      <td>1336</td>\n",
              "      <td>-99</td>\n",
              "      <td>0</td>\n",
              "      <td>Y</td>\n",
              "      <td>2013-10-21</td>\n",
              "      <td>2013-11-22</td>\n",
              "      <td>32.0</td>\n",
              "      <td>1.051356</td>\n",
              "      <td>4.571429</td>\n",
              "      <td>2</td>\n",
              "      <td>0.0</td>\n",
              "      <td>4</td>\n",
              "      <td>11</td>\n",
              "      <td>2012-03-29</td>\n",
              "      <td>11376.0</td>\n",
              "      <td>1.0</td>\n",
              "      <td>106.86</td>\n",
              "      <td>-10.33</td>\n",
              "      <td>0.0</td>\n",
              "      <td>29</td>\n",
              "      <td>3</td>\n",
              "      <td>13</td>\n",
              "      <td>117.19</td>\n",
              "      <td>0.096669</td>\n",
              "      <td>117.19</td>\n",
              "      <td>487</td>\n",
              "      <td>Established</td>\n",
              "      <td>Grocery</td>\n",
              "    </tr>\n",
              "    <tr>\n",
              "      <th>172577</th>\n",
              "      <td>128591</td>\n",
              "      <td>25</td>\n",
              "      <td>596</td>\n",
              "      <td>1336</td>\n",
              "      <td>-99</td>\n",
              "      <td>0</td>\n",
              "      <td>Y</td>\n",
              "      <td>2013-10-21</td>\n",
              "      <td>2013-11-22</td>\n",
              "      <td>32.0</td>\n",
              "      <td>1.051356</td>\n",
              "      <td>4.571429</td>\n",
              "      <td>2</td>\n",
              "      <td>0.0</td>\n",
              "      <td>4</td>\n",
              "      <td>11</td>\n",
              "      <td>2012-04-02</td>\n",
              "      <td>11376.0</td>\n",
              "      <td>1.0</td>\n",
              "      <td>106.86</td>\n",
              "      <td>-10.33</td>\n",
              "      <td>0.0</td>\n",
              "      <td>2</td>\n",
              "      <td>4</td>\n",
              "      <td>14</td>\n",
              "      <td>117.19</td>\n",
              "      <td>0.096669</td>\n",
              "      <td>117.19</td>\n",
              "      <td>487</td>\n",
              "      <td>Established</td>\n",
              "      <td>Grocery</td>\n",
              "    </tr>\n",
              "    <tr>\n",
              "      <th>172578</th>\n",
              "      <td>128593</td>\n",
              "      <td>22</td>\n",
              "      <td>518</td>\n",
              "      <td>748</td>\n",
              "      <td>-99</td>\n",
              "      <td>0</td>\n",
              "      <td>X</td>\n",
              "      <td>2013-09-16</td>\n",
              "      <td>2013-10-18</td>\n",
              "      <td>32.0</td>\n",
              "      <td>1.051356</td>\n",
              "      <td>4.571429</td>\n",
              "      <td>3</td>\n",
              "      <td>0.0</td>\n",
              "      <td>2</td>\n",
              "      <td>10</td>\n",
              "      <td>NaT</td>\n",
              "      <td>NaN</td>\n",
              "      <td>NaN</td>\n",
              "      <td>NaN</td>\n",
              "      <td>NaN</td>\n",
              "      <td>NaN</td>\n",
              "      <td>NaN</td>\n",
              "      <td>NaN</td>\n",
              "      <td>NaN</td>\n",
              "      <td>NaN</td>\n",
              "      <td>NaN</td>\n",
              "      <td>NaN</td>\n",
              "      <td>NaN</td>\n",
              "      <td>NaN</td>\n",
              "      <td>NaN</td>\n",
              "    </tr>\n",
              "    <tr>\n",
              "      <th>172579</th>\n",
              "      <td>128594</td>\n",
              "      <td>18</td>\n",
              "      <td>988</td>\n",
              "      <td>851</td>\n",
              "      <td>-99</td>\n",
              "      <td>0</td>\n",
              "      <td>X</td>\n",
              "      <td>2013-08-10</td>\n",
              "      <td>2013-10-04</td>\n",
              "      <td>55.0</td>\n",
              "      <td>1.807019</td>\n",
              "      <td>7.857143</td>\n",
              "      <td>2</td>\n",
              "      <td>0.0</td>\n",
              "      <td>1</td>\n",
              "      <td>8</td>\n",
              "      <td>NaT</td>\n",
              "      <td>NaN</td>\n",
              "      <td>NaN</td>\n",
              "      <td>NaN</td>\n",
              "      <td>NaN</td>\n",
              "      <td>NaN</td>\n",
              "      <td>NaN</td>\n",
              "      <td>NaN</td>\n",
              "      <td>NaN</td>\n",
              "      <td>NaN</td>\n",
              "      <td>NaN</td>\n",
              "      <td>NaN</td>\n",
              "      <td>NaN</td>\n",
              "      <td>NaN</td>\n",
              "      <td>NaN</td>\n",
              "    </tr>\n",
              "  </tbody>\n",
              "</table>\n",
              "</div>"
            ],
            "text/plain": [
              "            id  campaign_id  coupon_id  ...  brand   brand_type  category\n",
              "172575  128591           25        596  ...    487  Established   Grocery\n",
              "172576  128591           25        596  ...    487  Established   Grocery\n",
              "172577  128591           25        596  ...    487  Established   Grocery\n",
              "172578  128593           22        518  ...    NaN          NaN       NaN\n",
              "172579  128594           18        988  ...    NaN          NaN       NaN\n",
              "\n",
              "[5 rows x 31 columns]"
            ]
          },
          "metadata": {
            "tags": []
          },
          "execution_count": 45
        }
      ]
    },
    {
      "cell_type": "code",
      "metadata": {
        "id": "poIeIiFk6JW6"
      },
      "source": [
        "#separating the train and test dataset\n",
        "df_train=df[df['redemption_status']!=-99].copy()\n",
        "df_test=df[df['redemption_status'].isnull()==True].copy()"
      ],
      "execution_count": 75,
      "outputs": []
    },
    {
      "cell_type": "code",
      "metadata": {
        "id": "SfROoiCJaI9s"
      },
      "source": [
        "df_train['campaign_type']=df_train['campaign_type'].astype('category')\n",
        "df_test['campaign_type']=df_test['campaign_type'].astype('category')"
      ],
      "execution_count": 76,
      "outputs": []
    },
    {
      "cell_type": "code",
      "metadata": {
        "id": "UsBkjklS6JKg"
      },
      "source": [
        "#various cols we will use\n",
        "use_cols=['campaign_id', 'coupon_id', 'customer_id', 'campaign_type', 'diff_d', 'diff_m', 'diff_w', 'age_range', 'family_size', 'rented', 'income_bracket', 'quantity', 'selling_price', 'day', 'month', 'year', 'marked_price', 'disc_percent', 'price_per_quan', 'brand', 'brand_type', 'category']\n",
        "target=['redemption_status']\n",
        "cat_cols=['campaign_id', 'coupon_id', 'customer_id', 'campaign_type', 'day', 'month', 'year', 'brand', 'brand_type', 'category']"
      ],
      "execution_count": 49,
      "outputs": []
    },
    {
      "cell_type": "code",
      "metadata": {
        "id": "tNh0V8dP6JID",
        "outputId": "d1a2cc2f-1c77-486c-c7aa-fc57689b83d0",
        "colab": {
          "base_uri": "https://localhost:8080/",
          "height": 996
        }
      },
      "source": [
        "summary(df)"
      ],
      "execution_count": 59,
      "outputs": [
        {
          "output_type": "stream",
          "text": [
            "Dataset Shape: (172580, 31)\n"
          ],
          "name": "stdout"
        },
        {
          "output_type": "execute_result",
          "data": {
            "text/html": [
              "<div>\n",
              "<style scoped>\n",
              "    .dataframe tbody tr th:only-of-type {\n",
              "        vertical-align: middle;\n",
              "    }\n",
              "\n",
              "    .dataframe tbody tr th {\n",
              "        vertical-align: top;\n",
              "    }\n",
              "\n",
              "    .dataframe thead th {\n",
              "        text-align: right;\n",
              "    }\n",
              "</style>\n",
              "<table border=\"1\" class=\"dataframe\">\n",
              "  <thead>\n",
              "    <tr style=\"text-align: right;\">\n",
              "      <th></th>\n",
              "      <th>Name</th>\n",
              "      <th>dtypes</th>\n",
              "      <th>Missing</th>\n",
              "      <th>Uniques</th>\n",
              "    </tr>\n",
              "  </thead>\n",
              "  <tbody>\n",
              "    <tr>\n",
              "      <th>0</th>\n",
              "      <td>id</td>\n",
              "      <td>int64</td>\n",
              "      <td>0</td>\n",
              "      <td>128595</td>\n",
              "    </tr>\n",
              "    <tr>\n",
              "      <th>1</th>\n",
              "      <td>campaign_id</td>\n",
              "      <td>int64</td>\n",
              "      <td>0</td>\n",
              "      <td>28</td>\n",
              "    </tr>\n",
              "    <tr>\n",
              "      <th>2</th>\n",
              "      <td>coupon_id</td>\n",
              "      <td>int64</td>\n",
              "      <td>0</td>\n",
              "      <td>1116</td>\n",
              "    </tr>\n",
              "    <tr>\n",
              "      <th>3</th>\n",
              "      <td>customer_id</td>\n",
              "      <td>int64</td>\n",
              "      <td>0</td>\n",
              "      <td>1582</td>\n",
              "    </tr>\n",
              "    <tr>\n",
              "      <th>4</th>\n",
              "      <td>redemption_status</td>\n",
              "      <td>int64</td>\n",
              "      <td>0</td>\n",
              "      <td>3</td>\n",
              "    </tr>\n",
              "    <tr>\n",
              "      <th>5</th>\n",
              "      <td>is_train</td>\n",
              "      <td>int64</td>\n",
              "      <td>0</td>\n",
              "      <td>2</td>\n",
              "    </tr>\n",
              "    <tr>\n",
              "      <th>6</th>\n",
              "      <td>campaign_type</td>\n",
              "      <td>object</td>\n",
              "      <td>0</td>\n",
              "      <td>2</td>\n",
              "    </tr>\n",
              "    <tr>\n",
              "      <th>7</th>\n",
              "      <td>start_date</td>\n",
              "      <td>datetime64[ns]</td>\n",
              "      <td>0</td>\n",
              "      <td>25</td>\n",
              "    </tr>\n",
              "    <tr>\n",
              "      <th>8</th>\n",
              "      <td>end_date</td>\n",
              "      <td>datetime64[ns]</td>\n",
              "      <td>0</td>\n",
              "      <td>26</td>\n",
              "    </tr>\n",
              "    <tr>\n",
              "      <th>9</th>\n",
              "      <td>diff_d</td>\n",
              "      <td>float64</td>\n",
              "      <td>0</td>\n",
              "      <td>15</td>\n",
              "    </tr>\n",
              "    <tr>\n",
              "      <th>10</th>\n",
              "      <td>diff_m</td>\n",
              "      <td>float64</td>\n",
              "      <td>0</td>\n",
              "      <td>15</td>\n",
              "    </tr>\n",
              "    <tr>\n",
              "      <th>11</th>\n",
              "      <td>diff_w</td>\n",
              "      <td>float64</td>\n",
              "      <td>0</td>\n",
              "      <td>15</td>\n",
              "    </tr>\n",
              "    <tr>\n",
              "      <th>12</th>\n",
              "      <td>age_range</td>\n",
              "      <td>int64</td>\n",
              "      <td>0</td>\n",
              "      <td>6</td>\n",
              "    </tr>\n",
              "    <tr>\n",
              "      <th>13</th>\n",
              "      <td>rented</td>\n",
              "      <td>float64</td>\n",
              "      <td>0</td>\n",
              "      <td>2</td>\n",
              "    </tr>\n",
              "    <tr>\n",
              "      <th>14</th>\n",
              "      <td>family_size</td>\n",
              "      <td>int64</td>\n",
              "      <td>0</td>\n",
              "      <td>5</td>\n",
              "    </tr>\n",
              "    <tr>\n",
              "      <th>15</th>\n",
              "      <td>income_bracket</td>\n",
              "      <td>int64</td>\n",
              "      <td>0</td>\n",
              "      <td>12</td>\n",
              "    </tr>\n",
              "    <tr>\n",
              "      <th>16</th>\n",
              "      <td>date</td>\n",
              "      <td>datetime64[ns]</td>\n",
              "      <td>117627</td>\n",
              "      <td>176</td>\n",
              "    </tr>\n",
              "    <tr>\n",
              "      <th>17</th>\n",
              "      <td>item_id</td>\n",
              "      <td>float64</td>\n",
              "      <td>117627</td>\n",
              "      <td>9715</td>\n",
              "    </tr>\n",
              "    <tr>\n",
              "      <th>18</th>\n",
              "      <td>quantity</td>\n",
              "      <td>float64</td>\n",
              "      <td>117627</td>\n",
              "      <td>17</td>\n",
              "    </tr>\n",
              "    <tr>\n",
              "      <th>19</th>\n",
              "      <td>selling_price</td>\n",
              "      <td>float64</td>\n",
              "      <td>117627</td>\n",
              "      <td>1066</td>\n",
              "    </tr>\n",
              "    <tr>\n",
              "      <th>20</th>\n",
              "      <td>other_discount</td>\n",
              "      <td>float64</td>\n",
              "      <td>117627</td>\n",
              "      <td>540</td>\n",
              "    </tr>\n",
              "    <tr>\n",
              "      <th>21</th>\n",
              "      <td>coupon_discount</td>\n",
              "      <td>float64</td>\n",
              "      <td>117627</td>\n",
              "      <td>51</td>\n",
              "    </tr>\n",
              "    <tr>\n",
              "      <th>22</th>\n",
              "      <td>day</td>\n",
              "      <td>category</td>\n",
              "      <td>117627</td>\n",
              "      <td>31</td>\n",
              "    </tr>\n",
              "    <tr>\n",
              "      <th>23</th>\n",
              "      <td>month</td>\n",
              "      <td>category</td>\n",
              "      <td>117627</td>\n",
              "      <td>6</td>\n",
              "    </tr>\n",
              "    <tr>\n",
              "      <th>24</th>\n",
              "      <td>year</td>\n",
              "      <td>category</td>\n",
              "      <td>117627</td>\n",
              "      <td>26</td>\n",
              "    </tr>\n",
              "    <tr>\n",
              "      <th>25</th>\n",
              "      <td>marked_price</td>\n",
              "      <td>float64</td>\n",
              "      <td>117627</td>\n",
              "      <td>1664</td>\n",
              "    </tr>\n",
              "    <tr>\n",
              "      <th>26</th>\n",
              "      <td>disc_percent</td>\n",
              "      <td>float64</td>\n",
              "      <td>117627</td>\n",
              "      <td>2987</td>\n",
              "    </tr>\n",
              "    <tr>\n",
              "      <th>27</th>\n",
              "      <td>price_per_quan</td>\n",
              "      <td>float64</td>\n",
              "      <td>117627</td>\n",
              "      <td>1720</td>\n",
              "    </tr>\n",
              "    <tr>\n",
              "      <th>28</th>\n",
              "      <td>brand</td>\n",
              "      <td>category</td>\n",
              "      <td>117627</td>\n",
              "      <td>996</td>\n",
              "    </tr>\n",
              "    <tr>\n",
              "      <th>29</th>\n",
              "      <td>brand_type</td>\n",
              "      <td>category</td>\n",
              "      <td>117627</td>\n",
              "      <td>2</td>\n",
              "    </tr>\n",
              "    <tr>\n",
              "      <th>30</th>\n",
              "      <td>category</td>\n",
              "      <td>category</td>\n",
              "      <td>117627</td>\n",
              "      <td>15</td>\n",
              "    </tr>\n",
              "  </tbody>\n",
              "</table>\n",
              "</div>"
            ],
            "text/plain": [
              "                 Name          dtypes  Missing  Uniques\n",
              "0                  id           int64        0   128595\n",
              "1         campaign_id           int64        0       28\n",
              "2           coupon_id           int64        0     1116\n",
              "3         customer_id           int64        0     1582\n",
              "4   redemption_status           int64        0        3\n",
              "5            is_train           int64        0        2\n",
              "6       campaign_type          object        0        2\n",
              "7          start_date  datetime64[ns]        0       25\n",
              "8            end_date  datetime64[ns]        0       26\n",
              "9              diff_d         float64        0       15\n",
              "10             diff_m         float64        0       15\n",
              "11             diff_w         float64        0       15\n",
              "12          age_range           int64        0        6\n",
              "13             rented         float64        0        2\n",
              "14        family_size           int64        0        5\n",
              "15     income_bracket           int64        0       12\n",
              "16               date  datetime64[ns]   117627      176\n",
              "17            item_id         float64   117627     9715\n",
              "18           quantity         float64   117627       17\n",
              "19      selling_price         float64   117627     1066\n",
              "20     other_discount         float64   117627      540\n",
              "21    coupon_discount         float64   117627       51\n",
              "22                day        category   117627       31\n",
              "23              month        category   117627        6\n",
              "24               year        category   117627       26\n",
              "25       marked_price         float64   117627     1664\n",
              "26       disc_percent         float64   117627     2987\n",
              "27     price_per_quan         float64   117627     1720\n",
              "28              brand        category   117627      996\n",
              "29         brand_type        category   117627        2\n",
              "30           category        category   117627       15"
            ]
          },
          "metadata": {
            "tags": []
          },
          "execution_count": 59
        }
      ]
    },
    {
      "cell_type": "code",
      "metadata": {
        "id": "hwmxPwkF6JGN"
      },
      "source": [
        "x=df_train[use_cols]\n",
        "#y=df_train[target]"
      ],
      "execution_count": 77,
      "outputs": []
    },
    {
      "cell_type": "code",
      "metadata": {
        "id": "YBw8DYxPXPia"
      },
      "source": [
        "#importing our models\n",
        "import lightgbm as lgb\n",
        "from lightgbm import LGBMClassifier\n",
        "from sklearn.model_selection import RepeatedKFold, cross_val_score, KFold, StratifiedKFold\n",
        "from sklearn.metrics import accuracy_score,confusion_matrix,roc_auc_score"
      ],
      "execution_count": 54,
      "outputs": []
    },
    {
      "cell_type": "code",
      "metadata": {
        "id": "ZMpj8I4zXPrA"
      },
      "source": [
        "testx=df_test[use_cols]"
      ],
      "execution_count": 62,
      "outputs": []
    },
    {
      "cell_type": "code",
      "metadata": {
        "id": "O2fRkkkXcIcp"
      },
      "source": [
        "y=df_train['redemption_status']"
      ],
      "execution_count": 78,
      "outputs": []
    },
    {
      "cell_type": "code",
      "metadata": {
        "id": "8PxyHbwmcUAM",
        "outputId": "f0c3bd4d-edc5-48cd-b70c-dc92984dd38a",
        "colab": {
          "base_uri": "https://localhost:8080/",
          "height": 235
        }
      },
      "source": [
        "y.head(100)"
      ],
      "execution_count": 80,
      "outputs": [
        {
          "output_type": "execute_result",
          "data": {
            "text/plain": [
              "0     0\n",
              "1     0\n",
              "2     0\n",
              "3     0\n",
              "4     0\n",
              "     ..\n",
              "95    0\n",
              "96    0\n",
              "97    0\n",
              "98    0\n",
              "99    0\n",
              "Name: redemption_status, Length: 100, dtype: int64"
            ]
          },
          "metadata": {
            "tags": []
          },
          "execution_count": 80
        }
      ]
    },
    {
      "cell_type": "code",
      "metadata": {
        "id": "KhvisP4BXPXq",
        "outputId": "ac75c12a-2143-4cdc-bc04-264b5e230a1e",
        "colab": {
          "base_uri": "https://localhost:8080/",
          "height": 1000
        }
      },
      "source": [
        "#training our model using stratified kfold\n",
        "import time\n",
        "\n",
        "preds_buff = 0\n",
        "err = []\n",
        "y_pred_tot=[]\n",
        "\n",
        "\n",
        "n_splits = 5\n",
        "kf = KFold(n_splits=n_splits,random_state=22, shuffle=True)\n",
        "for dev_index, val_index in kf.split(x, y):\n",
        "    print(dev_index)\n",
        "    start = time.time()\n",
        "    Xtrain, Xval = x.iloc[dev_index], x.iloc[val_index]\n",
        "    ytrain, yval = y.iloc[dev_index], y.iloc[val_index]  \n",
        "\n",
        "    m=LGBMClassifier(n_estimators=5000,random_state=42,learning_rate=0.03,reg_alpha=0.2,colsample_bytree=0.5)\n",
        "    m.fit(Xtrain,ytrain,eval_set=[(Xtrain,ytrain),(Xval, yval)],eval_metric='auc', early_stopping_rounds=200,verbose=200)\n",
        "    \n",
        "    preds=m.predict_proba(Xval,num_iteration=m.best_iteration_)[:,-1]\n",
        "    \n",
        "    \n",
        "    \n",
        "    print(\"err: \",roc_auc_score(yval,preds))\n",
        "    err.append(roc_auc_score(yval,preds))\n",
        "    p = m.predict_proba(Xval)[:,-1]\n",
        "   # i=i+1\n",
        "    y_pred_tot.append(p)\n",
        "\n",
        "\n",
        "\n",
        "\n",
        "\n",
        "\n"
      ],
      "execution_count": 81,
      "outputs": [
        {
          "output_type": "stream",
          "text": [
            "[     0      1      2 ... 103270 103271 103272]\n",
            "Training until validation scores don't improve for 200 rounds.\n",
            "[200]\ttraining's binary_logloss: 0.0526809\ttraining's auc: 0.973608\tvalid_1's binary_logloss: 0.0663009\tvalid_1's auc: 0.956838\n",
            "[400]\ttraining's binary_logloss: 0.0385232\ttraining's auc: 0.985891\tvalid_1's binary_logloss: 0.0550695\tvalid_1's auc: 0.966129\n",
            "[600]\ttraining's binary_logloss: 0.0301715\ttraining's auc: 0.992393\tvalid_1's binary_logloss: 0.0492335\tvalid_1's auc: 0.969975\n",
            "[800]\ttraining's binary_logloss: 0.0244238\ttraining's auc: 0.99583\tvalid_1's binary_logloss: 0.0453392\tvalid_1's auc: 0.973164\n",
            "[1000]\ttraining's binary_logloss: 0.0203376\ttraining's auc: 0.997567\tvalid_1's binary_logloss: 0.0428107\tvalid_1's auc: 0.974771\n",
            "[1200]\ttraining's binary_logloss: 0.0173814\ttraining's auc: 0.998457\tvalid_1's binary_logloss: 0.0411486\tvalid_1's auc: 0.976223\n",
            "[1400]\ttraining's binary_logloss: 0.015208\ttraining's auc: 0.998939\tvalid_1's binary_logloss: 0.0400675\tvalid_1's auc: 0.977184\n",
            "[1600]\ttraining's binary_logloss: 0.0133196\ttraining's auc: 0.999341\tvalid_1's binary_logloss: 0.0391078\tvalid_1's auc: 0.978004\n",
            "[1800]\ttraining's binary_logloss: 0.011748\ttraining's auc: 0.99964\tvalid_1's binary_logloss: 0.0386598\tvalid_1's auc: 0.978262\n",
            "[2000]\ttraining's binary_logloss: 0.0105903\ttraining's auc: 0.999761\tvalid_1's binary_logloss: 0.0383077\tvalid_1's auc: 0.978642\n",
            "[2200]\ttraining's binary_logloss: 0.00963267\ttraining's auc: 0.999831\tvalid_1's binary_logloss: 0.0380894\tvalid_1's auc: 0.978901\n",
            "[2400]\ttraining's binary_logloss: 0.00875303\ttraining's auc: 0.999895\tvalid_1's binary_logloss: 0.0381424\tvalid_1's auc: 0.979123\n",
            "Early stopping, best iteration is:\n",
            "[2303]\ttraining's binary_logloss: 0.00915711\ttraining's auc: 0.999867\tvalid_1's binary_logloss: 0.0380336\tvalid_1's auc: 0.979128\n",
            "err:  0.9791282750112078\n",
            "[     0      1      2 ... 103265 103268 103272]\n",
            "Training until validation scores don't improve for 200 rounds.\n",
            "[200]\ttraining's binary_logloss: 0.0539801\ttraining's auc: 0.973781\tvalid_1's binary_logloss: 0.0599819\tvalid_1's auc: 0.961251\n",
            "[400]\ttraining's binary_logloss: 0.0388639\ttraining's auc: 0.986548\tvalid_1's binary_logloss: 0.0482264\tvalid_1's auc: 0.971371\n",
            "[600]\ttraining's binary_logloss: 0.0310429\ttraining's auc: 0.99253\tvalid_1's binary_logloss: 0.0432821\tvalid_1's auc: 0.974712\n",
            "[800]\ttraining's binary_logloss: 0.0252715\ttraining's auc: 0.99567\tvalid_1's binary_logloss: 0.0394772\tvalid_1's auc: 0.977446\n",
            "[1000]\ttraining's binary_logloss: 0.0210504\ttraining's auc: 0.99741\tvalid_1's binary_logloss: 0.0367692\tvalid_1's auc: 0.979143\n",
            "[1200]\ttraining's binary_logloss: 0.0179596\ttraining's auc: 0.998366\tvalid_1's binary_logloss: 0.0349437\tvalid_1's auc: 0.980295\n",
            "[1400]\ttraining's binary_logloss: 0.0156658\ttraining's auc: 0.99888\tvalid_1's binary_logloss: 0.0335229\tvalid_1's auc: 0.981187\n",
            "[1600]\ttraining's binary_logloss: 0.013742\ttraining's auc: 0.9993\tvalid_1's binary_logloss: 0.0326011\tvalid_1's auc: 0.981735\n",
            "[1800]\ttraining's binary_logloss: 0.0120118\ttraining's auc: 0.999609\tvalid_1's binary_logloss: 0.0319521\tvalid_1's auc: 0.982507\n",
            "[2000]\ttraining's binary_logloss: 0.010691\ttraining's auc: 0.999767\tvalid_1's binary_logloss: 0.0315663\tvalid_1's auc: 0.982965\n",
            "[2200]\ttraining's binary_logloss: 0.00956428\ttraining's auc: 0.999851\tvalid_1's binary_logloss: 0.0311708\tvalid_1's auc: 0.983388\n",
            "[2400]\ttraining's binary_logloss: 0.00868795\ttraining's auc: 0.999899\tvalid_1's binary_logloss: 0.0310189\tvalid_1's auc: 0.983505\n",
            "[2600]\ttraining's binary_logloss: 0.00783255\ttraining's auc: 0.999942\tvalid_1's binary_logloss: 0.0308366\tvalid_1's auc: 0.983754\n",
            "Early stopping, best iteration is:\n",
            "[2534]\ttraining's binary_logloss: 0.00808138\ttraining's auc: 0.999935\tvalid_1's binary_logloss: 0.0308643\tvalid_1's auc: 0.983788\n",
            "err:  0.9837878615622005\n",
            "[     0      1      2 ... 103270 103271 103272]\n",
            "Training until validation scores don't improve for 200 rounds.\n",
            "[200]\ttraining's binary_logloss: 0.0528933\ttraining's auc: 0.974065\tvalid_1's binary_logloss: 0.0621761\tvalid_1's auc: 0.96473\n",
            "[400]\ttraining's binary_logloss: 0.0383173\ttraining's auc: 0.986217\tvalid_1's binary_logloss: 0.0501436\tvalid_1's auc: 0.973486\n",
            "[600]\ttraining's binary_logloss: 0.0305749\ttraining's auc: 0.991418\tvalid_1's binary_logloss: 0.0448427\tvalid_1's auc: 0.976833\n",
            "[800]\ttraining's binary_logloss: 0.0250504\ttraining's auc: 0.99518\tvalid_1's binary_logloss: 0.0411202\tvalid_1's auc: 0.979236\n",
            "[1000]\ttraining's binary_logloss: 0.021459\ttraining's auc: 0.996911\tvalid_1's binary_logloss: 0.0389621\tvalid_1's auc: 0.980806\n",
            "[1200]\ttraining's binary_logloss: 0.0183344\ttraining's auc: 0.998168\tvalid_1's binary_logloss: 0.0370519\tvalid_1's auc: 0.981952\n",
            "[1400]\ttraining's binary_logloss: 0.0160049\ttraining's auc: 0.998844\tvalid_1's binary_logloss: 0.0357812\tvalid_1's auc: 0.982741\n",
            "[1600]\ttraining's binary_logloss: 0.0139979\ttraining's auc: 0.999296\tvalid_1's binary_logloss: 0.0347499\tvalid_1's auc: 0.983452\n",
            "[1800]\ttraining's binary_logloss: 0.0124114\ttraining's auc: 0.999551\tvalid_1's binary_logloss: 0.0341122\tvalid_1's auc: 0.983713\n",
            "[2000]\ttraining's binary_logloss: 0.0110885\ttraining's auc: 0.999703\tvalid_1's binary_logloss: 0.0335831\tvalid_1's auc: 0.983795\n",
            "[2200]\ttraining's binary_logloss: 0.00998809\ttraining's auc: 0.999788\tvalid_1's binary_logloss: 0.0332948\tvalid_1's auc: 0.98392\n",
            "[2400]\ttraining's binary_logloss: 0.00905238\ttraining's auc: 0.999847\tvalid_1's binary_logloss: 0.0330511\tvalid_1's auc: 0.984007\n",
            "[2600]\ttraining's binary_logloss: 0.00822618\ttraining's auc: 0.999889\tvalid_1's binary_logloss: 0.0329145\tvalid_1's auc: 0.983923\n",
            "Early stopping, best iteration is:\n",
            "[2443]\ttraining's binary_logloss: 0.0088642\ttraining's auc: 0.999862\tvalid_1's binary_logloss: 0.0329845\tvalid_1's auc: 0.984051\n",
            "err:  0.9840505691241233\n",
            "[     3      4      5 ... 103270 103271 103272]\n",
            "Training until validation scores don't improve for 200 rounds.\n",
            "[200]\ttraining's binary_logloss: 0.0537052\ttraining's auc: 0.972952\tvalid_1's binary_logloss: 0.0618345\tvalid_1's auc: 0.965617\n",
            "[400]\ttraining's binary_logloss: 0.0389738\ttraining's auc: 0.985848\tvalid_1's binary_logloss: 0.0495139\tvalid_1's auc: 0.975378\n",
            "[600]\ttraining's binary_logloss: 0.0312414\ttraining's auc: 0.991653\tvalid_1's binary_logloss: 0.0438776\tvalid_1's auc: 0.979282\n",
            "[800]\ttraining's binary_logloss: 0.0257834\ttraining's auc: 0.994991\tvalid_1's binary_logloss: 0.0397501\tvalid_1's auc: 0.982034\n",
            "[1000]\ttraining's binary_logloss: 0.0217452\ttraining's auc: 0.99692\tvalid_1's binary_logloss: 0.0367045\tvalid_1's auc: 0.984236\n",
            "[1200]\ttraining's binary_logloss: 0.0187601\ttraining's auc: 0.99801\tvalid_1's binary_logloss: 0.0346467\tvalid_1's auc: 0.985241\n",
            "[1400]\ttraining's binary_logloss: 0.0165073\ttraining's auc: 0.99867\tvalid_1's binary_logloss: 0.0331488\tvalid_1's auc: 0.986\n",
            "[1600]\ttraining's binary_logloss: 0.0145664\ttraining's auc: 0.999096\tvalid_1's binary_logloss: 0.0318709\tvalid_1's auc: 0.9867\n",
            "[1800]\ttraining's binary_logloss: 0.0127217\ttraining's auc: 0.999526\tvalid_1's binary_logloss: 0.0310236\tvalid_1's auc: 0.986987\n",
            "[2000]\ttraining's binary_logloss: 0.0114784\ttraining's auc: 0.999686\tvalid_1's binary_logloss: 0.0303731\tvalid_1's auc: 0.987434\n",
            "[2200]\ttraining's binary_logloss: 0.0103406\ttraining's auc: 0.999811\tvalid_1's binary_logloss: 0.0299284\tvalid_1's auc: 0.987575\n",
            "[2400]\ttraining's binary_logloss: 0.00942803\ttraining's auc: 0.999872\tvalid_1's binary_logloss: 0.0295673\tvalid_1's auc: 0.987723\n",
            "[2600]\ttraining's binary_logloss: 0.00857664\ttraining's auc: 0.999912\tvalid_1's binary_logloss: 0.0293098\tvalid_1's auc: 0.987867\n",
            "[2800]\ttraining's binary_logloss: 0.00786227\ttraining's auc: 0.999935\tvalid_1's binary_logloss: 0.0291294\tvalid_1's auc: 0.987908\n",
            "[3000]\ttraining's binary_logloss: 0.00727462\ttraining's auc: 0.999951\tvalid_1's binary_logloss: 0.0291412\tvalid_1's auc: 0.987811\n",
            "Early stopping, best iteration is:\n",
            "[2894]\ttraining's binary_logloss: 0.00760428\ttraining's auc: 0.999941\tvalid_1's binary_logloss: 0.0290695\tvalid_1's auc: 0.987969\n",
            "err:  0.9879688867598704\n",
            "[     0      1      2 ... 103269 103270 103271]\n",
            "Training until validation scores don't improve for 200 rounds.\n",
            "[200]\ttraining's binary_logloss: 0.0550374\ttraining's auc: 0.973085\tvalid_1's binary_logloss: 0.0563569\tvalid_1's auc: 0.965534\n",
            "[400]\ttraining's binary_logloss: 0.0402598\ttraining's auc: 0.98625\tvalid_1's binary_logloss: 0.0459528\tvalid_1's auc: 0.97405\n",
            "[600]\ttraining's binary_logloss: 0.0321226\ttraining's auc: 0.992314\tvalid_1's binary_logloss: 0.0408447\tvalid_1's auc: 0.976915\n",
            "[800]\ttraining's binary_logloss: 0.0263428\ttraining's auc: 0.995464\tvalid_1's binary_logloss: 0.0372297\tvalid_1's auc: 0.979145\n",
            "[1000]\ttraining's binary_logloss: 0.021959\ttraining's auc: 0.997274\tvalid_1's binary_logloss: 0.0346293\tvalid_1's auc: 0.980122\n",
            "[1200]\ttraining's binary_logloss: 0.0188952\ttraining's auc: 0.998186\tvalid_1's binary_logloss: 0.0326804\tvalid_1's auc: 0.981167\n",
            "[1400]\ttraining's binary_logloss: 0.0164304\ttraining's auc: 0.998864\tvalid_1's binary_logloss: 0.0314503\tvalid_1's auc: 0.981652\n",
            "[1600]\ttraining's binary_logloss: 0.0144439\ttraining's auc: 0.999237\tvalid_1's binary_logloss: 0.0304197\tvalid_1's auc: 0.981973\n",
            "[1800]\ttraining's binary_logloss: 0.0125748\ttraining's auc: 0.999548\tvalid_1's binary_logloss: 0.0296152\tvalid_1's auc: 0.98225\n",
            "[2000]\ttraining's binary_logloss: 0.0112903\ttraining's auc: 0.999668\tvalid_1's binary_logloss: 0.0292222\tvalid_1's auc: 0.982246\n",
            "[2200]\ttraining's binary_logloss: 0.0101605\ttraining's auc: 0.999777\tvalid_1's binary_logloss: 0.0288068\tvalid_1's auc: 0.98247\n",
            "[2400]\ttraining's binary_logloss: 0.00926239\ttraining's auc: 0.999837\tvalid_1's binary_logloss: 0.0285344\tvalid_1's auc: 0.982587\n",
            "Early stopping, best iteration is:\n",
            "[2391]\ttraining's binary_logloss: 0.0092966\ttraining's auc: 0.999836\tvalid_1's binary_logloss: 0.0285338\tvalid_1's auc: 0.982626\n",
            "err:  0.9826263524467225\n"
          ],
          "name": "stdout"
        }
      ]
    },
    {
      "cell_type": "code",
      "metadata": {
        "id": "FWnubdW_XPVQ",
        "outputId": "8c5d202e-7261-4f54-e44c-fae944f2dd6e",
        "colab": {
          "base_uri": "https://localhost:8080/",
          "height": 35
        }
      },
      "source": [
        "np.mean(err,0)"
      ],
      "execution_count": 82,
      "outputs": [
        {
          "output_type": "execute_result",
          "data": {
            "text/plain": [
              "0.9835123889808249"
            ]
          },
          "metadata": {
            "tags": []
          },
          "execution_count": 82
        }
      ]
    }
  ]
}